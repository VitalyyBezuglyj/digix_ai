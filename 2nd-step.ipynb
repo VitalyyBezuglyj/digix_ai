{
 "cells": [
  {
   "cell_type": "code",
   "execution_count": 1,
   "metadata": {
    "execution": {
     "iopub.execute_input": "2020-09-30T06:22:18.107576Z",
     "iopub.status.busy": "2020-09-30T06:22:18.106982Z",
     "iopub.status.idle": "2020-09-30T06:22:30.834640Z",
     "shell.execute_reply": "2020-09-30T06:22:30.835496Z"
    },
    "papermill": {
     "duration": 12.747098,
     "end_time": "2020-09-30T06:22:30.835677",
     "exception": false,
     "start_time": "2020-09-30T06:22:18.088579",
     "status": "completed"
    },
    "tags": []
   },
   "outputs": [
    {
     "name": "stdout",
     "output_type": "stream",
     "text": [
      "Collecting efficientnet_pytorch\r\n",
      "  Downloading efficientnet_pytorch-0.7.0.tar.gz (20 kB)\r\n",
      "Requirement already satisfied: torch in /opt/conda/lib/python3.7/site-packages (from efficientnet_pytorch) (1.6.0)\r\n",
      "Requirement already satisfied: future in /opt/conda/lib/python3.7/site-packages (from torch->efficientnet_pytorch) (0.18.2)\r\n",
      "Requirement already satisfied: numpy in /opt/conda/lib/python3.7/site-packages (from torch->efficientnet_pytorch) (1.18.5)\r\n",
      "Building wheels for collected packages: efficientnet-pytorch\r\n",
      "  Building wheel for efficientnet-pytorch (setup.py) ... \u001b[?25l-\b \b\\\b \bdone\r\n",
      "\u001b[?25h  Created wheel for efficientnet-pytorch: filename=efficientnet_pytorch-0.7.0-py3-none-any.whl size=16035 sha256=7ffc52ee7de297c8a9ec6baa5ab2ec180fa0e3e6791afdd2371ad7d6b6294ba5\r\n",
      "  Stored in directory: /root/.cache/pip/wheels/b7/cc/0d/41d384b0071c6f46e542aded5f8571700ace4f1eb3f1591c29\r\n",
      "Successfully built efficientnet-pytorch\r\n",
      "Installing collected packages: efficientnet-pytorch\r\n",
      "Successfully installed efficientnet-pytorch-0.7.0\r\n"
     ]
    }
   ],
   "source": [
    "import numpy as np\n",
    "import pandas as pd\n",
    "import torch\n",
    "import torchvision\n",
    "from torchvision import transforms\n",
    "from PIL import Image\n",
    "from sklearn.neighbors import NearestNeighbors\n",
    "import joblib\n",
    "\n",
    "!pip install efficientnet_pytorch"
   ]
  },
  {
   "cell_type": "code",
   "execution_count": 2,
   "metadata": {
    "execution": {
     "iopub.execute_input": "2020-09-30T06:22:30.868631Z",
     "iopub.status.busy": "2020-09-30T06:22:30.867235Z",
     "iopub.status.idle": "2020-09-30T06:22:30.870185Z",
     "shell.execute_reply": "2020-09-30T06:22:30.869735Z"
    },
    "papermill": {
     "duration": 0.020771,
     "end_time": "2020-09-30T06:22:30.870273",
     "exception": false,
     "start_time": "2020-09-30T06:22:30.849502",
     "status": "completed"
    },
    "tags": []
   },
   "outputs": [],
   "source": [
    "from pathlib import Path"
   ]
  },
  {
   "cell_type": "code",
   "execution_count": 3,
   "metadata": {
    "execution": {
     "iopub.execute_input": "2020-09-30T06:22:30.901775Z",
     "iopub.status.busy": "2020-09-30T06:22:30.901005Z",
     "iopub.status.idle": "2020-09-30T06:22:30.903850Z",
     "shell.execute_reply": "2020-09-30T06:22:30.903297Z"
    },
    "papermill": {
     "duration": 0.020561,
     "end_time": "2020-09-30T06:22:30.903941",
     "exception": false,
     "start_time": "2020-09-30T06:22:30.883380",
     "status": "completed"
    },
    "tags": []
   },
   "outputs": [],
   "source": [
    "LIB_DIR=Path('/kaggle/input/digix-gallery/gallery/')\n",
    "MODEL_WEIGHTS= Path('/kaggle/input/digix-ai-1st-attempt/eff_net_w_2.pt')\n",
    "ball_tree_dump_file = 'library_ball_tree.sav'\n",
    "lib_files_dump_file = 'library_files_list.sav'\n",
    "RESCALE_SIZE=224"
   ]
  },
  {
   "cell_type": "code",
   "execution_count": 4,
   "metadata": {
    "execution": {
     "iopub.execute_input": "2020-09-30T06:22:31.263924Z",
     "iopub.status.busy": "2020-09-30T06:22:31.263285Z",
     "iopub.status.idle": "2020-09-30T06:22:31.267857Z",
     "shell.execute_reply": "2020-09-30T06:22:31.266936Z"
    },
    "papermill": {
     "duration": 0.350952,
     "end_time": "2020-09-30T06:22:31.267963",
     "exception": false,
     "start_time": "2020-09-30T06:22:30.917011",
     "status": "completed"
    },
    "tags": []
   },
   "outputs": [],
   "source": [
    "eval_on_gpu = torch.cuda.is_available()\n",
    "\n",
    "if eval_on_gpu:\n",
    "    DEVICE = torch.device('cuda')\n",
    "else:\n",
    "    DEVICE = torch.device('cpu')"
   ]
  },
  {
   "cell_type": "code",
   "execution_count": 5,
   "metadata": {
    "execution": {
     "iopub.execute_input": "2020-09-30T06:22:31.299334Z",
     "iopub.status.busy": "2020-09-30T06:22:31.298849Z",
     "iopub.status.idle": "2020-09-30T06:23:08.000591Z",
     "shell.execute_reply": "2020-09-30T06:23:08.000042Z"
    },
    "papermill": {
     "duration": 36.719072,
     "end_time": "2020-09-30T06:23:08.000712",
     "exception": false,
     "start_time": "2020-09-30T06:22:31.281640",
     "status": "completed"
    },
    "tags": []
   },
   "outputs": [],
   "source": [
    "lib_files = sorted(list(LIB_DIR.rglob('*.jpg')))"
   ]
  },
  {
   "cell_type": "code",
   "execution_count": 6,
   "metadata": {
    "execution": {
     "iopub.execute_input": "2020-09-30T06:23:08.035039Z",
     "iopub.status.busy": "2020-09-30T06:23:08.033560Z",
     "iopub.status.idle": "2020-09-30T06:23:08.035997Z",
     "shell.execute_reply": "2020-09-30T06:23:08.036410Z"
    },
    "papermill": {
     "duration": 0.020601,
     "end_time": "2020-09-30T06:23:08.036536",
     "exception": false,
     "start_time": "2020-09-30T06:23:08.015935",
     "status": "completed"
    },
    "tags": []
   },
   "outputs": [],
   "source": [
    "from torch.utils.data import Dataset, DataLoader"
   ]
  },
  {
   "cell_type": "code",
   "execution_count": 7,
   "metadata": {
    "execution": {
     "iopub.execute_input": "2020-09-30T06:23:08.079364Z",
     "iopub.status.busy": "2020-09-30T06:23:08.078591Z",
     "iopub.status.idle": "2020-09-30T06:23:08.080862Z",
     "shell.execute_reply": "2020-09-30T06:23:08.081274Z"
    },
    "papermill": {
     "duration": 0.031376,
     "end_time": "2020-09-30T06:23:08.081377",
     "exception": false,
     "start_time": "2020-09-30T06:23:08.050001",
     "status": "completed"
    },
    "tags": []
   },
   "outputs": [],
   "source": [
    "class GoodsDataset(Dataset):\n",
    "    def __init__(self, files):\n",
    "        super().__init__()\n",
    "        # список файлов для загрузки\n",
    "        self.files = sorted(files)\n",
    "\n",
    "        self.len_ = len(self.files)\n",
    "            \n",
    "    def __len__(self):\n",
    "        return self.len_\n",
    "      \n",
    "    def load_sample(self, file):\n",
    "        image = Image.open(file)\n",
    "        image.load()\n",
    "        return image\n",
    "    \n",
    "    def __getitem__(self, index):\n",
    "        # для преобразования изображений в тензоры PyTorch и нормализации входа\n",
    "        data_transforms = transforms.Compose([\n",
    "            transforms.Resize(RESCALE_SIZE),\n",
    "            transforms.CenterCrop(RESCALE_SIZE),\n",
    "            transforms.ToTensor(),\n",
    "            transforms.Normalize([0.485, 0.456, 0.406], [0.229, 0.224, 0.225])\n",
    "        ])\n",
    "        x = self.load_sample(self.files[index])\n",
    "        if (len(x.mode) < 2):\n",
    "            x = transforms.Grayscale(3)(x)\n",
    "            \n",
    "        transforms.functional.adjust_saturation(img=x,saturation_factor=1.25)\n",
    "        transforms.functional.adjust_gamma(img=x, gamma=0.25)\n",
    "        \n",
    "        x = data_transforms(x)\n",
    "        return x"
   ]
  },
  {
   "cell_type": "code",
   "execution_count": 8,
   "metadata": {
    "execution": {
     "iopub.execute_input": "2020-09-30T06:23:08.141536Z",
     "iopub.status.busy": "2020-09-30T06:23:08.131253Z",
     "iopub.status.idle": "2020-09-30T06:23:08.219238Z",
     "shell.execute_reply": "2020-09-30T06:23:08.218782Z"
    },
    "papermill": {
     "duration": 0.124584,
     "end_time": "2020-09-30T06:23:08.219345",
     "exception": false,
     "start_time": "2020-09-30T06:23:08.094761",
     "status": "completed"
    },
    "tags": []
   },
   "outputs": [],
   "source": [
    "lib_dataset = GoodsDataset(lib_files)"
   ]
  },
  {
   "cell_type": "code",
   "execution_count": 9,
   "metadata": {
    "execution": {
     "iopub.execute_input": "2020-09-30T06:23:08.250947Z",
     "iopub.status.busy": "2020-09-30T06:23:08.250261Z",
     "iopub.status.idle": "2020-09-30T06:23:08.252724Z",
     "shell.execute_reply": "2020-09-30T06:23:08.253133Z"
    },
    "papermill": {
     "duration": 0.019964,
     "end_time": "2020-09-30T06:23:08.253243",
     "exception": false,
     "start_time": "2020-09-30T06:23:08.233279",
     "status": "completed"
    },
    "tags": []
   },
   "outputs": [],
   "source": [
    "import torch.nn as nn"
   ]
  },
  {
   "cell_type": "code",
   "execution_count": 10,
   "metadata": {
    "execution": {
     "iopub.execute_input": "2020-09-30T06:23:08.287113Z",
     "iopub.status.busy": "2020-09-30T06:23:08.286281Z",
     "iopub.status.idle": "2020-09-30T06:23:13.863930Z",
     "shell.execute_reply": "2020-09-30T06:23:13.864309Z"
    },
    "papermill": {
     "duration": 5.597599,
     "end_time": "2020-09-30T06:23:13.864450",
     "exception": false,
     "start_time": "2020-09-30T06:23:08.266851",
     "status": "completed"
    },
    "tags": []
   },
   "outputs": [
    {
     "data": {
      "text/plain": [
       "<All keys matched successfully>"
      ]
     },
     "execution_count": 10,
     "metadata": {},
     "output_type": "execute_result"
    }
   ],
   "source": [
    "from efficientnet_pytorch import EfficientNet\n",
    "model = EfficientNet.from_name('efficientnet-b1')\n",
    "\n",
    "additional_ftrs = 4096\n",
    "n_classes = 3094\n",
    "#Изменяем выходные слои модели\n",
    "num_ftrs_resnext = model._fc.in_features\n",
    "new_fc_seq = nn.Sequential(\n",
    "    nn.Linear(num_ftrs_resnext,additional_ftrs),\n",
    "    nn.LeakyReLU(),\n",
    "    nn.Linear(additional_ftrs, n_classes)\n",
    ")\n",
    "model._fc = new_fc_seq\n",
    "\n",
    "model.load_state_dict(torch.load(MODEL_WEIGHTS))"
   ]
  },
  {
   "cell_type": "code",
   "execution_count": 11,
   "metadata": {
    "execution": {
     "iopub.execute_input": "2020-09-30T06:23:13.903327Z",
     "iopub.status.busy": "2020-09-30T06:23:13.902795Z",
     "iopub.status.idle": "2020-09-30T06:23:13.988714Z",
     "shell.execute_reply": "2020-09-30T06:23:13.989170Z"
    },
    "papermill": {
     "duration": 0.110344,
     "end_time": "2020-09-30T06:23:13.989296",
     "exception": false,
     "start_time": "2020-09-30T06:23:13.878952",
     "status": "completed"
    },
    "tags": []
   },
   "outputs": [
    {
     "ename": "NameError",
     "evalue": "name 'prepare_model' is not defined",
     "output_type": "error",
     "traceback": [
      "\u001b[0;31m---------------------------------------------------------------------------\u001b[0m",
      "\u001b[0;31mNameError\u001b[0m                                 Traceback (most recent call last)",
      "\u001b[0;32m<ipython-input-11-82841489f429>\u001b[0m in \u001b[0;36m<module>\u001b[0;34m\u001b[0m\n\u001b[1;32m      1\u001b[0m \u001b[0mdata_loader\u001b[0m \u001b[0;34m=\u001b[0m \u001b[0mDataLoader\u001b[0m\u001b[0;34m(\u001b[0m\u001b[0mlib_dataset\u001b[0m\u001b[0;34m,\u001b[0m \u001b[0mbatch_size\u001b[0m\u001b[0;34m=\u001b[0m\u001b[0;36m64\u001b[0m\u001b[0;34m,\u001b[0m \u001b[0mshuffle\u001b[0m\u001b[0;34m=\u001b[0m\u001b[0;32mFalse\u001b[0m\u001b[0;34m)\u001b[0m\u001b[0;34m\u001b[0m\u001b[0;34m\u001b[0m\u001b[0m\n\u001b[1;32m      2\u001b[0m \u001b[0moutputs\u001b[0m \u001b[0;34m=\u001b[0m \u001b[0;36m0\u001b[0m\u001b[0;34m\u001b[0m\u001b[0;34m\u001b[0m\u001b[0m\n\u001b[0;32m----> 3\u001b[0;31m \u001b[0mprepare_model\u001b[0m\u001b[0;34m(\u001b[0m\u001b[0mmodel\u001b[0m\u001b[0;34m)\u001b[0m\u001b[0;34m\u001b[0m\u001b[0;34m\u001b[0m\u001b[0m\n\u001b[0m\u001b[1;32m      4\u001b[0m \u001b[0mmodel\u001b[0m\u001b[0;34m.\u001b[0m\u001b[0mto\u001b[0m\u001b[0;34m(\u001b[0m\u001b[0mDEVICE\u001b[0m\u001b[0;34m)\u001b[0m\u001b[0;34m\u001b[0m\u001b[0;34m\u001b[0m\u001b[0m\n\u001b[1;32m      5\u001b[0m \u001b[0mmodel\u001b[0m\u001b[0;34m.\u001b[0m\u001b[0meval\u001b[0m\u001b[0;34m(\u001b[0m\u001b[0;34m)\u001b[0m\u001b[0;34m\u001b[0m\u001b[0;34m\u001b[0m\u001b[0m\n",
      "\u001b[0;31mNameError\u001b[0m: name 'prepare_model' is not defined"
     ]
    }
   ],
   "source": [
    "data_loader = DataLoader(lib_dataset, batch_size=64, shuffle=False)\n",
    "outputs = 0\n",
    "prepare_model(model)\n",
    "model.to(DEVICE)\n",
    "model.eval()\n",
    "with torch.no_grad():\n",
    "    for inputs in data_loader:\n",
    "        inputs = inputs.to(DEVICE)\n",
    "        outputs = model(inputs).cpu()\n",
    "        print(type(outputs))\n",
    "        break"
   ]
  },
  {
   "cell_type": "code",
   "execution_count": 12,
   "metadata": {
    "execution": {
     "iopub.execute_input": "2020-09-30T06:23:14.024244Z",
     "iopub.status.busy": "2020-09-30T06:23:14.023703Z",
     "iopub.status.idle": "2020-09-30T06:23:14.029875Z",
     "shell.execute_reply": "2020-09-30T06:23:14.029228Z"
    },
    "papermill": {
     "duration": 0.025476,
     "end_time": "2020-09-30T06:23:14.029978",
     "exception": false,
     "start_time": "2020-09-30T06:23:14.004502",
     "status": "completed"
    },
    "tags": []
   },
   "outputs": [
    {
     "data": {
      "text/plain": [
       "()"
      ]
     },
     "execution_count": 12,
     "metadata": {},
     "output_type": "execute_result"
    }
   ],
   "source": [
    "np.array(outputs).shape"
   ]
  },
  {
   "cell_type": "code",
   "execution_count": null,
   "metadata": {
    "papermill": {
     "duration": 0.01482,
     "end_time": "2020-09-30T06:23:14.060132",
     "exception": false,
     "start_time": "2020-09-30T06:23:14.045312",
     "status": "completed"
    },
    "tags": []
   },
   "outputs": [],
   "source": []
  },
  {
   "cell_type": "code",
   "execution_count": 13,
   "metadata": {
    "execution": {
     "iopub.execute_input": "2020-09-30T06:23:14.097660Z",
     "iopub.status.busy": "2020-09-30T06:23:14.097082Z",
     "iopub.status.idle": "2020-09-30T06:23:14.100226Z",
     "shell.execute_reply": "2020-09-30T06:23:14.100697Z"
    },
    "papermill": {
     "duration": 0.024998,
     "end_time": "2020-09-30T06:23:14.100812",
     "exception": false,
     "start_time": "2020-09-30T06:23:14.075814",
     "status": "completed"
    },
    "tags": []
   },
   "outputs": [],
   "source": [
    "def library_processing(model, dataset, batch_size):\n",
    "    feature_vector = np.empty((0, 4096), float)\n",
    "    \n",
    "    model.eval()\n",
    "    \n",
    "    data_loader = DataLoader(dataset, batch_size=batch_size, shuffle=False)\n",
    "    \n",
    "    with torch.no_grad():\n",
    "        for inputs in data_loader:\n",
    "            inputs = inputs.to(DEVICE)\n",
    "            outputs = model(inputs).cpu()\n",
    "            feature_vector = np.append(feature_vector, np.array(outputs), axis=0)\n",
    "            \n",
    "    return feature_vector\n",
    "            "
   ]
  },
  {
   "cell_type": "code",
   "execution_count": 14,
   "metadata": {
    "execution": {
     "iopub.execute_input": "2020-09-30T06:23:14.136109Z",
     "iopub.status.busy": "2020-09-30T06:23:14.135414Z",
     "iopub.status.idle": "2020-09-30T06:23:14.138747Z",
     "shell.execute_reply": "2020-09-30T06:23:14.138228Z"
    },
    "papermill": {
     "duration": 0.022647,
     "end_time": "2020-09-30T06:23:14.138842",
     "exception": false,
     "start_time": "2020-09-30T06:23:14.116195",
     "status": "completed"
    },
    "tags": []
   },
   "outputs": [],
   "source": [
    "def prepare_model(model):\n",
    "    fc_without_last_layer = list(model._fc.children())[:-2]\n",
    "    model._fc = torch.nn.Sequential(*fc_without_last_layer)"
   ]
  },
  {
   "cell_type": "code",
   "execution_count": 15,
   "metadata": {
    "execution": {
     "iopub.execute_input": "2020-09-30T06:23:14.175245Z",
     "iopub.status.busy": "2020-09-30T06:23:14.174727Z",
     "iopub.status.idle": "2020-09-30T07:28:26.774453Z",
     "shell.execute_reply": "2020-09-30T07:28:26.773349Z"
    },
    "papermill": {
     "duration": 3912.620116,
     "end_time": "2020-09-30T07:28:26.774573",
     "exception": false,
     "start_time": "2020-09-30T06:23:14.154457",
     "status": "completed"
    },
    "tags": []
   },
   "outputs": [],
   "source": [
    "prepare_model(model)\n",
    "\n",
    "model.to(DEVICE)\n",
    "lib_feature_vector = library_processing(model, lib_dataset, batch_size=64)"
   ]
  },
  {
   "cell_type": "code",
   "execution_count": 16,
   "metadata": {
    "execution": {
     "iopub.execute_input": "2020-09-30T07:28:26.810241Z",
     "iopub.status.busy": "2020-09-30T07:28:26.809720Z",
     "iopub.status.idle": "2020-09-30T07:28:27.080181Z",
     "shell.execute_reply": "2020-09-30T07:28:27.079301Z"
    },
    "papermill": {
     "duration": 0.289555,
     "end_time": "2020-09-30T07:28:27.080283",
     "exception": false,
     "start_time": "2020-09-30T07:28:26.790728",
     "status": "completed"
    },
    "tags": []
   },
   "outputs": [
    {
     "data": {
      "text/plain": [
       "NearestNeighbors(metric='cosine', n_neighbors=10)"
      ]
     },
     "execution_count": 16,
     "metadata": {},
     "output_type": "execute_result"
    }
   ],
   "source": [
    "lib_tree = NearestNeighbors(n_neighbors=10, metric=\"cosine\")\n",
    "lib_tree.fit(lib_feature_vector)"
   ]
  },
  {
   "cell_type": "code",
   "execution_count": 17,
   "metadata": {
    "execution": {
     "iopub.execute_input": "2020-09-30T07:28:27.122118Z",
     "iopub.status.busy": "2020-09-30T07:28:27.121213Z",
     "iopub.status.idle": "2020-09-30T07:28:37.335012Z",
     "shell.execute_reply": "2020-09-30T07:28:37.335405Z"
    },
    "papermill": {
     "duration": 10.23923,
     "end_time": "2020-09-30T07:28:37.335557",
     "exception": false,
     "start_time": "2020-09-30T07:28:27.096327",
     "status": "completed"
    },
    "tags": []
   },
   "outputs": [
    {
     "data": {
      "text/plain": [
       "['library_files_list.sav']"
      ]
     },
     "execution_count": 17,
     "metadata": {},
     "output_type": "execute_result"
    }
   ],
   "source": [
    "joblib.dump(lib_tree, ball_tree_dump_file)\n",
    "\n",
    "joblib.dump(lib_files, lib_files_dump_file)"
   ]
  },
  {
   "cell_type": "code",
   "execution_count": null,
   "metadata": {
    "papermill": {
     "duration": 1.404657,
     "end_time": "2020-09-30T07:28:54.211864",
     "exception": false,
     "start_time": "2020-09-30T07:28:52.807207",
     "status": "completed"
    },
    "tags": []
   },
   "outputs": [],
   "source": []
  }
 ],
 "metadata": {
  "kernelspec": {
   "display_name": "Python 3",
   "language": "python",
   "name": "python3"
  },
  "language_info": {
   "codemirror_mode": {
    "name": "ipython",
    "version": 3
   },
   "file_extension": ".py",
   "mimetype": "text/x-python",
   "name": "python",
   "nbconvert_exporter": "python",
   "pygments_lexer": "ipython3",
   "version": "3.7.6"
  },
  "papermill": {
   "duration": 4001.072945,
   "end_time": "2020-09-30T07:28:55.300313",
   "environment_variables": {},
   "exception": null,
   "input_path": "__notebook__.ipynb",
   "output_path": "__notebook__.ipynb",
   "parameters": {},
   "start_time": "2020-09-30T06:22:14.227368",
   "version": "2.1.0"
  }
 },
 "nbformat": 4,
 "nbformat_minor": 4
}
