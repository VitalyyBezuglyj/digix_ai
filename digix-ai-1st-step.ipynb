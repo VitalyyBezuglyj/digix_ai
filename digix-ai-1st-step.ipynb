{
 "cells": [
  {
   "cell_type": "code",
   "execution_count": 1,
   "metadata": {
    "_cell_guid": "79c7e3d0-c299-4dcb-8224-4455121ee9b0",
    "_uuid": "d629ff2d2480ee46fbb7e2d37f6b5fab8052498a",
    "execution": {
     "iopub.execute_input": "2020-09-25T12:54:54.440528Z",
     "iopub.status.busy": "2020-09-25T12:54:54.439882Z",
     "iopub.status.idle": "2020-09-25T12:54:56.302098Z",
     "shell.execute_reply": "2020-09-25T12:54:56.302875Z"
    },
    "papermill": {
     "duration": 1.899693,
     "end_time": "2020-09-25T12:54:56.303075",
     "exception": false,
     "start_time": "2020-09-25T12:54:54.403382",
     "status": "completed"
    },
    "tags": []
   },
   "outputs": [
    {
     "name": "stdout",
     "output_type": "stream",
     "text": [
      "CUDA is available!  Training on GPU ...\n"
     ]
    }
   ],
   "source": [
    "import torch\n",
    "import numpy as np\n",
    "\n",
    "train_on_gpu = torch.cuda.is_available()\n",
    "\n",
    "if not train_on_gpu:\n",
    "    print('CUDA is not available.  Training on CPU ...')\n",
    "else:\n",
    "    print('CUDA is available!  Training on GPU ...')"
   ]
  },
  {
   "cell_type": "code",
   "execution_count": 2,
   "metadata": {
    "execution": {
     "iopub.execute_input": "2020-09-25T12:54:56.372324Z",
     "iopub.status.busy": "2020-09-25T12:54:56.371426Z",
     "iopub.status.idle": "2020-09-25T12:54:56.373333Z",
     "shell.execute_reply": "2020-09-25T12:54:56.373912Z"
    },
    "papermill": {
     "duration": 0.040822,
     "end_time": "2020-09-25T12:54:56.374043",
     "exception": false,
     "start_time": "2020-09-25T12:54:56.333221",
     "status": "completed"
    },
    "tags": []
   },
   "outputs": [],
   "source": [
    "DATA_MODES = ['train', 'val', 'test']\n",
    "# все изображения будут масштабированы к размеру 224x224 px \n",
    "RESCALE_SIZE = 224\n",
    "#MODELS = ['resnet34', 'densenet']\n",
    "# работаем на видеокарте\n",
    "DEVICE = torch.device(\"cuda\")"
   ]
  },
  {
   "cell_type": "code",
   "execution_count": 3,
   "metadata": {
    "execution": {
     "iopub.execute_input": "2020-09-25T12:54:56.443180Z",
     "iopub.status.busy": "2020-09-25T12:54:56.440297Z",
     "iopub.status.idle": "2020-09-25T12:54:57.674578Z",
     "shell.execute_reply": "2020-09-25T12:54:57.673129Z"
    },
    "papermill": {
     "duration": 1.27127,
     "end_time": "2020-09-25T12:54:57.674746",
     "exception": false,
     "start_time": "2020-09-25T12:54:56.403476",
     "status": "completed"
    },
    "tags": []
   },
   "outputs": [],
   "source": [
    "import pickle\n",
    "import numpy as np\n",
    "from skimage import io\n",
    "\n",
    "from tqdm import tqdm, tqdm_notebook\n",
    "from PIL import Image\n",
    "from pathlib import Path\n",
    "\n",
    "from torchvision import transforms\n",
    "from multiprocessing.pool import ThreadPool\n",
    "from sklearn.preprocessing import LabelEncoder\n",
    "from torch.utils.data import Dataset, DataLoader\n",
    "import torch.nn as nn\n",
    "\n",
    "from matplotlib import colors, pyplot as plt\n",
    "%matplotlib inline\n",
    "\n",
    "# в sklearn не все гладко, чтобы в colab удобно выводить картинки \n",
    "# мы будем игнорировать warnings\n",
    "import warnings\n",
    "warnings.filterwarnings(action='ignore', category=DeprecationWarning)"
   ]
  },
  {
   "cell_type": "code",
   "execution_count": 4,
   "metadata": {
    "execution": {
     "iopub.execute_input": "2020-09-25T12:54:57.757977Z",
     "iopub.status.busy": "2020-09-25T12:54:57.754454Z",
     "iopub.status.idle": "2020-09-25T12:54:57.760233Z",
     "shell.execute_reply": "2020-09-25T12:54:57.760761Z"
    },
    "papermill": {
     "duration": 0.055159,
     "end_time": "2020-09-25T12:54:57.760883",
     "exception": false,
     "start_time": "2020-09-25T12:54:57.705724",
     "status": "completed"
    },
    "tags": []
   },
   "outputs": [],
   "source": [
    "class GoodsDataset(Dataset):\n",
    "    def __init__(self, files, mode):\n",
    "        super().__init__()\n",
    "        # список файлов для загрузки\n",
    "        self.files = sorted(files)\n",
    "        # режим работы\n",
    "        self.mode = mode\n",
    "\n",
    "        self.len_ = len(self.files)\n",
    "     \n",
    "        self.label_encoder = LabelEncoder()\n",
    "\n",
    "        if self.mode != 'test':\n",
    "            self.labels = [path.parent.name for path in self.files]\n",
    "            self.label_encoder.fit(self.labels)\n",
    "\n",
    "            with open('label_encoder.pkl', 'wb') as le_dump_file:\n",
    "                  pickle.dump(self.label_encoder, le_dump_file)\n",
    "            \n",
    "    def __len__(self):\n",
    "        return self.len_\n",
    "      \n",
    "    def load_sample(self, file):\n",
    "        image = Image.open(file)\n",
    "        image.load()\n",
    "        return image\n",
    "    \n",
    " #Проверить какие преобразования на самом деле нужны!!! \n",
    "    def __getitem__(self, index):\n",
    "        # для преобразования изображений в тензоры PyTorch и нормализации входа\n",
    "        data_transforms = {\n",
    "        'train': transforms.Compose([\n",
    "            transforms.Resize(RESCALE_SIZE),\n",
    "            transforms.CenterCrop(RESCALE_SIZE),\n",
    "            #transforms.RandomResizedCrop(RESCALE_SIZE),\n",
    "            transforms.RandomHorizontalFlip(),\n",
    "            transforms.ToTensor(),\n",
    "            transforms.Normalize([0.485, 0.456, 0.406], [0.229, 0.224, 0.225])\n",
    "        ]),\n",
    "        'test': transforms.Compose([\n",
    "            transforms.Resize(RESCALE_SIZE),\n",
    "            transforms.CenterCrop(RESCALE_SIZE),\n",
    "            transforms.ToTensor(),\n",
    "            transforms.Normalize([0.485, 0.456, 0.406], [0.229, 0.224, 0.225])\n",
    "        ]),\n",
    "        'val': transforms.Compose([\n",
    "            transforms.Resize(RESCALE_SIZE),\n",
    "            transforms.CenterCrop(RESCALE_SIZE),\n",
    "            transforms.ToTensor(),\n",
    "            transforms.Normalize([0.485, 0.456, 0.406], [0.229, 0.224, 0.225])\n",
    "        ]),\n",
    "        }\n",
    "        x = self.load_sample(self.files[index])\n",
    "        if (len(x.mode) < 2):\n",
    "            x = transforms.Grayscale(3)(x)\n",
    "        transforms.functional.adjust_saturation(img=x,saturation_factor=1.25)\n",
    "        transforms.functional.adjust_gamma(img=x, gamma=0.25)\n",
    "        x = data_transforms[self.mode](x)\n",
    "        if self.mode == 'test':\n",
    "            return x\n",
    "        else:\n",
    "            label = self.labels[index]\n",
    "            label_id = self.label_encoder.transform([label])\n",
    "            y = label_id.item()\n",
    "            return x, y"
   ]
  },
  {
   "cell_type": "code",
   "execution_count": 5,
   "metadata": {
    "execution": {
     "iopub.execute_input": "2020-09-25T12:54:57.823872Z",
     "iopub.status.busy": "2020-09-25T12:54:57.823264Z",
     "iopub.status.idle": "2020-09-25T12:55:05.537991Z",
     "shell.execute_reply": "2020-09-25T12:55:05.537040Z"
    },
    "papermill": {
     "duration": 7.748555,
     "end_time": "2020-09-25T12:55:05.538118",
     "exception": false,
     "start_time": "2020-09-25T12:54:57.789563",
     "status": "completed"
    },
    "tags": []
   },
   "outputs": [],
   "source": [
    "TRAIN_DIR=Path('/kaggle/input/digix-ai-train/train_data/')\n",
    "\n",
    "train_val_files = sorted(list(TRAIN_DIR.rglob('*.jpg')))"
   ]
  },
  {
   "cell_type": "code",
   "execution_count": 6,
   "metadata": {
    "execution": {
     "iopub.execute_input": "2020-09-25T12:55:05.606086Z",
     "iopub.status.busy": "2020-09-25T12:55:05.605332Z",
     "iopub.status.idle": "2020-09-25T12:55:05.695122Z",
     "shell.execute_reply": "2020-09-25T12:55:05.694600Z"
    },
    "papermill": {
     "duration": 0.124948,
     "end_time": "2020-09-25T12:55:05.695232",
     "exception": false,
     "start_time": "2020-09-25T12:55:05.570284",
     "status": "completed"
    },
    "tags": []
   },
   "outputs": [],
   "source": [
    "labels_file = open('/kaggle/input/digix-ai-train/train_data/label.txt','r')\n",
    "train_val_labels = sorted([line.strip() for line in labels_file])\n",
    "for i in range(len(train_val_labels)):\n",
    "    train_val_labels[i-1] = 'thingummy #' + train_val_labels[i-1].split(',')[-1]"
   ]
  },
  {
   "cell_type": "code",
   "execution_count": 7,
   "metadata": {
    "execution": {
     "iopub.execute_input": "2020-09-25T12:55:05.760361Z",
     "iopub.status.busy": "2020-09-25T12:55:05.759578Z",
     "iopub.status.idle": "2020-09-25T12:55:05.764653Z",
     "shell.execute_reply": "2020-09-25T12:55:05.764118Z"
    },
    "papermill": {
     "duration": 0.039256,
     "end_time": "2020-09-25T12:55:05.764808",
     "exception": false,
     "start_time": "2020-09-25T12:55:05.725552",
     "status": "completed"
    },
    "tags": []
   },
   "outputs": [],
   "source": [
    "# Возвращает массив в формате ((именена классов), (индекс первой картинки такого класса),(сколько всего таких картинок))\n",
    "#unique_img_info = np.unique(np.array(train_val_labels),return_counts=True, return_index=True)\n",
    "\n",
    "#print(unique_img_info)\n",
    "#Берем индексы картинок , которые встречаются только один раз, индексы в массиве который создала строка выше\n",
    "#unique_img_idx_indicies = np.array(np.where(unique_img_info[2] == 1))\n",
    "#print(unique_img_idx_indicies)\n",
    "\n",
    "#unique_img_idx_indicies = unique_img_idx_indicies[0,:] # Убираем лишнее измерение [[]] -> []\n",
    " \n",
    "#unique_img_indicies = list()\n",
    "#unique_img_dir_indicies = list()\n",
    "#for idx in unique_img_idx_indicies:\n",
    "#    unique_img_dir_indicies.append(np.int64(unique_img_info[0][idx].split('#')[-1]))\n",
    "#    unique_img_indicies.append(unique_img_info[1][idx])"
   ]
  },
  {
   "cell_type": "code",
   "execution_count": 8,
   "metadata": {
    "execution": {
     "iopub.execute_input": "2020-09-25T12:55:05.833039Z",
     "iopub.status.busy": "2020-09-25T12:55:05.830954Z",
     "iopub.status.idle": "2020-09-25T12:55:05.833802Z",
     "shell.execute_reply": "2020-09-25T12:55:05.834315Z"
    },
    "papermill": {
     "duration": 0.038246,
     "end_time": "2020-09-25T12:55:05.834456",
     "exception": false,
     "start_time": "2020-09-25T12:55:05.796210",
     "status": "completed"
    },
    "tags": []
   },
   "outputs": [],
   "source": [
    "\n",
    "#data = []\n",
    "#for i in range(len(data_prev[0])):\n",
    "#    data.append((i,data_prev[2][i]))\n",
    "#    \n",
    "#max_num_in_data = data_prev[2].max()\n",
    "#data"
   ]
  },
  {
   "cell_type": "code",
   "execution_count": 9,
   "metadata": {
    "execution": {
     "iopub.execute_input": "2020-09-25T12:55:05.899968Z",
     "iopub.status.busy": "2020-09-25T12:55:05.899175Z",
     "iopub.status.idle": "2020-09-25T12:55:06.014812Z",
     "shell.execute_reply": "2020-09-25T12:55:06.013867Z"
    },
    "papermill": {
     "duration": 0.150424,
     "end_time": "2020-09-25T12:55:06.014928",
     "exception": false,
     "start_time": "2020-09-25T12:55:05.864504",
     "status": "completed"
    },
    "tags": []
   },
   "outputs": [],
   "source": [
    "import numpy as np\n",
    "import pandas as pd\n",
    "import matplotlib.pyplot as plt\n",
    "import seaborn as sns\n",
    "#data = pd.DataFrame(data)\n",
    "#data = data.rename(columns={0: \"idx\",1:\"Num of img\"})"
   ]
  },
  {
   "cell_type": "code",
   "execution_count": 10,
   "metadata": {
    "execution": {
     "iopub.execute_input": "2020-09-25T12:55:06.105534Z",
     "iopub.status.busy": "2020-09-25T12:55:06.104473Z",
     "iopub.status.idle": "2020-09-25T12:55:12.083665Z",
     "shell.execute_reply": "2020-09-25T12:55:12.083174Z"
    },
    "papermill": {
     "duration": 6.036521,
     "end_time": "2020-09-25T12:55:12.083813",
     "exception": false,
     "start_time": "2020-09-25T12:55:06.047292",
     "status": "completed"
    },
    "tags": []
   },
   "outputs": [
    {
     "data": {
      "text/plain": [
       "tensor([0.6167, 0.6727, 0.7400,  ..., 0.9867, 1.4800, 0.9250], device='cuda:0')"
      ]
     },
     "execution_count": 10,
     "metadata": {},
     "output_type": "execute_result"
    }
   ],
   "source": [
    "data_prev = np.unique(np.array(train_val_labels),return_index=True,return_counts=True)\n",
    "weights_for_classes = torch.FloatTensor(data_prev[2].max()/np.array(data_prev[2]))\n",
    "weights_for_classes = (weights_for_classes/weights_for_classes.mean()).cuda()\n",
    "weights_for_classes"
   ]
  },
  {
   "cell_type": "code",
   "execution_count": 11,
   "metadata": {
    "execution": {
     "iopub.execute_input": "2020-09-25T12:55:12.151794Z",
     "iopub.status.busy": "2020-09-25T12:55:12.151060Z",
     "iopub.status.idle": "2020-09-25T12:55:12.155729Z",
     "shell.execute_reply": "2020-09-25T12:55:12.155227Z"
    },
    "papermill": {
     "duration": 0.039608,
     "end_time": "2020-09-25T12:55:12.155827",
     "exception": false,
     "start_time": "2020-09-25T12:55:12.116219",
     "status": "completed"
    },
    "tags": []
   },
   "outputs": [],
   "source": [
    "#Сортируем их, чтобы добавлять по порядку и учитывать новые элементы в списке не ломая голову с преобразованием индексов\n",
    "#unique_img_indicies = np.sort(unique_img_indicies)[::-1]\n",
    "\n",
    "#Сортируем по отдельности, но чем больше номер папки тем больше номер картинки и все норм\n",
    "#unique_img_dir_indicies = np.sort(unique_img_dir_indicies)[::-1]"
   ]
  },
  {
   "cell_type": "code",
   "execution_count": 12,
   "metadata": {
    "execution": {
     "iopub.execute_input": "2020-09-25T12:55:12.223079Z",
     "iopub.status.busy": "2020-09-25T12:55:12.222432Z",
     "iopub.status.idle": "2020-09-25T12:55:12.226541Z",
     "shell.execute_reply": "2020-09-25T12:55:12.226046Z"
    },
    "papermill": {
     "duration": 0.039156,
     "end_time": "2020-09-25T12:55:12.226637",
     "exception": false,
     "start_time": "2020-09-25T12:55:12.187481",
     "status": "completed"
    },
    "tags": []
   },
   "outputs": [],
   "source": [
    "#unique_img_dir_indicies"
   ]
  },
  {
   "cell_type": "code",
   "execution_count": 13,
   "metadata": {
    "execution": {
     "iopub.execute_input": "2020-09-25T12:55:12.301455Z",
     "iopub.status.busy": "2020-09-25T12:55:12.300558Z",
     "iopub.status.idle": "2020-09-25T12:55:12.303717Z",
     "shell.execute_reply": "2020-09-25T12:55:12.303170Z"
    },
    "papermill": {
     "duration": 0.039092,
     "end_time": "2020-09-25T12:55:12.303815",
     "exception": false,
     "start_time": "2020-09-25T12:55:12.264723",
     "status": "completed"
    },
    "tags": []
   },
   "outputs": [],
   "source": [
    "#list(Path('/kaggle/input/digix-ai-train/train_data/DIGIX_' + '{:06}'.format(608) +'/').rglob('*.jpg'))"
   ]
  },
  {
   "cell_type": "code",
   "execution_count": 14,
   "metadata": {
    "execution": {
     "iopub.execute_input": "2020-09-25T12:55:12.369826Z",
     "iopub.status.busy": "2020-09-25T12:55:12.368932Z",
     "iopub.status.idle": "2020-09-25T12:55:12.371397Z",
     "shell.execute_reply": "2020-09-25T12:55:12.371903Z"
    },
    "papermill": {
     "duration": 0.036776,
     "end_time": "2020-09-25T12:55:12.372014",
     "exception": false,
     "start_time": "2020-09-25T12:55:12.335238",
     "status": "completed"
    },
    "tags": []
   },
   "outputs": [],
   "source": [
    "#for i in range(len(unique_img_dir_indicies)):\n",
    "#    str_idx = '{:06}'.format(unique_img_dir_indicies[i])\n",
    "#    img_path = list(Path('/kaggle/input/digix-ai-train/train_data/DIGIX_' + str_idx +'/').rglob('*.jpg'))[0]\n",
    "#    img = Image.open(img_path)\n",
    "#    img_name, ext = os.path.splitext(img_path)\n",
    "#    img.transpose(Image.FLIP_LEFT_RIGHT).save(img_name + '_1','JPEG')\n",
    "#    train_val_labels.insert(unique_img_indicies[i], train_val_labels[unique_img_indicies[i]])"
   ]
  },
  {
   "cell_type": "code",
   "execution_count": 15,
   "metadata": {
    "execution": {
     "iopub.execute_input": "2020-09-25T12:55:12.439841Z",
     "iopub.status.busy": "2020-09-25T12:55:12.439252Z",
     "iopub.status.idle": "2020-09-25T12:55:12.658396Z",
     "shell.execute_reply": "2020-09-25T12:55:12.657839Z"
    },
    "papermill": {
     "duration": 0.255305,
     "end_time": "2020-09-25T12:55:12.658525",
     "exception": false,
     "start_time": "2020-09-25T12:55:12.403220",
     "status": "completed"
    },
    "tags": []
   },
   "outputs": [],
   "source": [
    "from sklearn.model_selection import train_test_split\n",
    "\n",
    "train_files, val_files = train_test_split(train_val_files, test_size=0.3, \n",
    "                                          stratify=train_val_labels)"
   ]
  },
  {
   "cell_type": "code",
   "execution_count": 16,
   "metadata": {
    "execution": {
     "iopub.execute_input": "2020-09-25T12:55:12.743475Z",
     "iopub.status.busy": "2020-09-25T12:55:12.738371Z",
     "iopub.status.idle": "2020-09-25T12:55:13.034808Z",
     "shell.execute_reply": "2020-09-25T12:55:13.033335Z"
    },
    "papermill": {
     "duration": 0.343503,
     "end_time": "2020-09-25T12:55:13.034956",
     "exception": false,
     "start_time": "2020-09-25T12:55:12.691453",
     "status": "completed"
    },
    "tags": []
   },
   "outputs": [],
   "source": [
    "val_dataset = GoodsDataset(val_files, mode='val')"
   ]
  },
  {
   "cell_type": "code",
   "execution_count": 17,
   "metadata": {
    "execution": {
     "iopub.execute_input": "2020-09-25T12:55:13.110316Z",
     "iopub.status.busy": "2020-09-25T12:55:13.109431Z",
     "iopub.status.idle": "2020-09-25T12:55:13.112521Z",
     "shell.execute_reply": "2020-09-25T12:55:13.111927Z"
    },
    "papermill": {
     "duration": 0.0463,
     "end_time": "2020-09-25T12:55:13.112646",
     "exception": false,
     "start_time": "2020-09-25T12:55:13.066346",
     "status": "completed"
    },
    "tags": []
   },
   "outputs": [],
   "source": [
    "def imshow(inp, title=None, plt_ax=plt, default=False):\n",
    "    \"\"\"Imshow для тензоров\"\"\"\n",
    "    inp = inp.numpy().transpose((1, 2, 0))\n",
    "    mean = np.array([0.485, 0.456, 0.406])\n",
    "    std = np.array([0.229, 0.224, 0.225])\n",
    "    inp = std * inp + mean\n",
    "    inp = np.clip(inp, 0, 1)\n",
    "    plt_ax.imshow(inp)\n",
    "    if title is not None:\n",
    "        plt_ax.set_title(title)\n",
    "    plt_ax.grid(False)"
   ]
  },
  {
   "cell_type": "code",
   "execution_count": 18,
   "metadata": {
    "execution": {
     "iopub.execute_input": "2020-09-25T12:55:13.185712Z",
     "iopub.status.busy": "2020-09-25T12:55:13.185001Z",
     "iopub.status.idle": "2020-09-25T12:55:15.502023Z",
     "shell.execute_reply": "2020-09-25T12:55:15.502544Z"
    },
    "papermill": {
     "duration": 2.358221,
     "end_time": "2020-09-25T12:55:15.502702",
     "exception": false,
     "start_time": "2020-09-25T12:55:13.144481",
     "status": "completed"
    },
    "tags": []
   },
   "outputs": [
    {
     "data": {
      "image/png": "[encoded data removed]",
      "text/plain": [
       "<Figure size 576x576 with 9 Axes>"
      ]
     },
     "metadata": {
      "needs_background": "light"
     },
     "output_type": "display_data"
    }
   ],
   "source": [
    "fig, ax = plt.subplots(nrows=3, ncols=3,figsize=(8, 8), \\\n",
    "                        sharey=True, sharex=True)\n",
    "for fig_x in ax.flatten():\n",
    "    random_characters = int(np.random.uniform(0,3000))\n",
    "    im_val, label = val_dataset[random_characters]\n",
    "    img_label = \" \".join(map(lambda x: x.capitalize(),\\\n",
    "                val_dataset.label_encoder.inverse_transform([label])[0].split('_')))\n",
    "    imshow(im_val.data.cpu(), \\\n",
    "          title=img_label,plt_ax=fig_x)"
   ]
  },
  {
   "cell_type": "code",
   "execution_count": 19,
   "metadata": {
    "execution": {
     "iopub.execute_input": "2020-09-25T12:55:15.584450Z",
     "iopub.status.busy": "2020-09-25T12:55:15.583606Z",
     "iopub.status.idle": "2020-09-25T12:55:27.318950Z",
     "shell.execute_reply": "2020-09-25T12:55:27.319869Z"
    },
    "papermill": {
     "duration": 11.778612,
     "end_time": "2020-09-25T12:55:27.320015",
     "exception": false,
     "start_time": "2020-09-25T12:55:15.541403",
     "status": "completed"
    },
    "tags": []
   },
   "outputs": [
    {
     "name": "stdout",
     "output_type": "stream",
     "text": [
      "Collecting efficientnet_pytorch\r\n",
      "  Downloading efficientnet_pytorch-0.7.0.tar.gz (20 kB)\r\n",
      "Requirement already satisfied: torch in /opt/conda/lib/python3.7/site-packages (from efficientnet_pytorch) (1.6.0)\r\n",
      "Requirement already satisfied: future in /opt/conda/lib/python3.7/site-packages (from torch->efficientnet_pytorch) (0.18.2)\r\n",
      "Requirement already satisfied: numpy in /opt/conda/lib/python3.7/site-packages (from torch->efficientnet_pytorch) (1.18.5)\r\n",
      "Building wheels for collected packages: efficientnet-pytorch\r\n",
      "  Building wheel for efficientnet-pytorch (setup.py) ... \u001b[?25l-\b \b\\\b \bdone\r\n",
      "\u001b[?25h  Created wheel for efficientnet-pytorch: filename=efficientnet_pytorch-0.7.0-py3-none-any.whl size=16035 sha256=240e8b25177e9c234260d66efe42059aa923d213a0c67f15f06906bf2c32b876\r\n",
      "  Stored in directory: /root/.cache/pip/wheels/b7/cc/0d/41d384b0071c6f46e542aded5f8571700ace4f1eb3f1591c29\r\n",
      "Successfully built efficientnet-pytorch\r\n",
      "Installing collected packages: efficientnet-pytorch\r\n",
      "Successfully installed efficientnet-pytorch-0.7.0\r\n",
      "Note: you may need to restart the kernel to use updated packages.\n"
     ]
    }
   ],
   "source": [
    "pip install efficientnet_pytorch"
   ]
  },
  {
   "cell_type": "code",
   "execution_count": 20,
   "metadata": {
    "execution": {
     "iopub.execute_input": "2020-09-25T12:55:27.409174Z",
     "iopub.status.busy": "2020-09-25T12:55:27.408271Z",
     "iopub.status.idle": "2020-09-25T12:55:28.596705Z",
     "shell.execute_reply": "2020-09-25T12:55:28.597183Z"
    },
    "papermill": {
     "duration": 1.234707,
     "end_time": "2020-09-25T12:55:28.597313",
     "exception": false,
     "start_time": "2020-09-25T12:55:27.362606",
     "status": "completed"
    },
    "tags": []
   },
   "outputs": [
    {
     "name": "stderr",
     "output_type": "stream",
     "text": [
      "Downloading: \"https://github.com/lukemelas/EfficientNet-PyTorch/releases/download/1.0/efficientnet-b1-f1951068.pth\" to /root/.cache/torch/hub/checkpoints/efficientnet-b1-f1951068.pth\n"
     ]
    },
    {
     "data": {
      "application/vnd.jupyter.widget-view+json": {
       "model_id": "02b0920fa0824a3bbc1e7d26a2f07169",
       "version_major": 2,
       "version_minor": 0
      },
      "text/plain": [
       "HBox(children=(FloatProgress(value=0.0, max=31519111.0), HTML(value='')))"
      ]
     },
     "metadata": {},
     "output_type": "display_data"
    },
    {
     "name": "stdout",
     "output_type": "stream",
     "text": [
      "\n",
      "Loaded pretrained weights for efficientnet-b1\n"
     ]
    }
   ],
   "source": [
    "from efficientnet_pytorch import EfficientNet\n",
    "model = EfficientNet.from_pretrained('efficientnet-b1')"
   ]
  },
  {
   "cell_type": "code",
   "execution_count": 21,
   "metadata": {
    "execution": {
     "iopub.execute_input": "2020-09-25T12:55:28.706344Z",
     "iopub.status.busy": "2020-09-25T12:55:28.705233Z",
     "iopub.status.idle": "2020-09-25T12:55:28.712908Z",
     "shell.execute_reply": "2020-09-25T12:55:28.713416Z"
    },
    "papermill": {
     "duration": 0.072524,
     "end_time": "2020-09-25T12:55:28.713540",
     "exception": false,
     "start_time": "2020-09-25T12:55:28.641016",
     "status": "completed"
    },
    "tags": []
   },
   "outputs": [],
   "source": [
    "def fit_epoch(model, train_loader, criterion, optimizer):\n",
    "    running_loss = 0.0\n",
    "    running_corrects = 0\n",
    "    processed_data = 0\n",
    "  \n",
    "    for inputs, labels in train_loader:\n",
    "        inputs = inputs.to(DEVICE)\n",
    "        labels = labels.to(DEVICE)\n",
    "        optimizer.zero_grad()\n",
    "\n",
    "        outputs = model(inputs)\n",
    "        loss = criterion(outputs, labels)\n",
    "        loss.backward()\n",
    "        optimizer.step()\n",
    "        preds = torch.argmax(outputs, 1)\n",
    "        running_loss += loss.item() * inputs.size(0)\n",
    "        running_corrects += torch.sum(preds == labels.data)\n",
    "        processed_data += inputs.size(0)\n",
    "              \n",
    "    train_loss = running_loss / processed_data\n",
    "    train_acc = running_corrects.cpu().numpy() / processed_data\n",
    "    return train_loss, train_acc"
   ]
  },
  {
   "cell_type": "code",
   "execution_count": 22,
   "metadata": {
    "execution": {
     "iopub.execute_input": "2020-09-25T12:55:28.811239Z",
     "iopub.status.busy": "2020-09-25T12:55:28.810477Z",
     "iopub.status.idle": "2020-09-25T12:55:28.813541Z",
     "shell.execute_reply": "2020-09-25T12:55:28.813037Z"
    },
    "papermill": {
     "duration": 0.055362,
     "end_time": "2020-09-25T12:55:28.813664",
     "exception": false,
     "start_time": "2020-09-25T12:55:28.758302",
     "status": "completed"
    },
    "tags": []
   },
   "outputs": [],
   "source": [
    "def eval_epoch(model, val_loader, criterion):\n",
    "    model.eval()\n",
    "    running_loss = 0.0\n",
    "    running_corrects = 0\n",
    "    processed_size = 0\n",
    "\n",
    "    for inputs, labels in val_loader:\n",
    "        inputs = inputs.to(DEVICE)\n",
    "        labels = labels.to(DEVICE)\n",
    "\n",
    "        with torch.set_grad_enabled(False):\n",
    "            outputs = model(inputs)\n",
    "            loss = criterion(outputs, labels)\n",
    "            preds = torch.argmax(outputs, 1)\n",
    "\n",
    "        running_loss += loss.item() * inputs.size(0)\n",
    "        running_corrects += torch.sum(preds == labels.data)\n",
    "        processed_size += inputs.size(0)\n",
    "    val_loss = running_loss / processed_size\n",
    "    val_acc = running_corrects.double() / processed_size\n",
    "    return val_loss, val_acc"
   ]
  },
  {
   "cell_type": "code",
   "execution_count": 23,
   "metadata": {
    "execution": {
     "iopub.execute_input": "2020-09-25T12:55:28.906505Z",
     "iopub.status.busy": "2020-09-25T12:55:28.905772Z",
     "iopub.status.idle": "2020-09-25T12:55:28.908756Z",
     "shell.execute_reply": "2020-09-25T12:55:28.908272Z"
    },
    "papermill": {
     "duration": 0.051368,
     "end_time": "2020-09-25T12:55:28.908855",
     "exception": false,
     "start_time": "2020-09-25T12:55:28.857487",
     "status": "completed"
    },
    "tags": []
   },
   "outputs": [],
   "source": [
    "def predict(model, test_loader):\n",
    "    with torch.no_grad():\n",
    "        logits = []\n",
    "    \n",
    "        for inputs in test_loader:\n",
    "            inputs = inputs.to(DEVICE)\n",
    "            model.eval()\n",
    "            outputs = model(inputs).cpu()\n",
    "            logits.append(outputs)\n",
    "            \n",
    "    probs = nn.functional.softmax(torch.cat(logits), dim=-1).numpy()\n",
    "    return probs"
   ]
  },
  {
   "cell_type": "code",
   "execution_count": 24,
   "metadata": {
    "execution": {
     "iopub.execute_input": "2020-09-25T12:55:29.008195Z",
     "iopub.status.busy": "2020-09-25T12:55:29.007319Z",
     "iopub.status.idle": "2020-09-25T12:55:29.011544Z",
     "shell.execute_reply": "2020-09-25T12:55:29.011093Z"
    },
    "papermill": {
     "duration": 0.060329,
     "end_time": "2020-09-25T12:55:29.011656",
     "exception": false,
     "start_time": "2020-09-25T12:55:28.951327",
     "status": "completed"
    },
    "tags": []
   },
   "outputs": [
    {
     "data": {
      "text/plain": [
       "['_conv_stem.weight',\n",
       " '_bn0.weight',\n",
       " '_bn0.bias',\n",
       " '_blocks.0._depthwise_conv.weight',\n",
       " '_blocks.0._bn1.weight',\n",
       " '_blocks.0._bn1.bias',\n",
       " '_blocks.0._se_reduce.weight',\n",
       " '_blocks.0._se_reduce.bias',\n",
       " '_blocks.0._se_expand.weight',\n",
       " '_blocks.0._se_expand.bias',\n",
       " '_blocks.0._project_conv.weight',\n",
       " '_blocks.0._bn2.weight',\n",
       " '_blocks.0._bn2.bias',\n",
       " '_blocks.1._depthwise_conv.weight',\n",
       " '_blocks.1._bn1.weight',\n",
       " '_blocks.1._bn1.bias',\n",
       " '_blocks.1._se_reduce.weight',\n",
       " '_blocks.1._se_reduce.bias',\n",
       " '_blocks.1._se_expand.weight',\n",
       " '_blocks.1._se_expand.bias',\n",
       " '_blocks.1._project_conv.weight',\n",
       " '_blocks.1._bn2.weight',\n",
       " '_blocks.1._bn2.bias',\n",
       " '_blocks.2._expand_conv.weight',\n",
       " '_blocks.2._bn0.weight',\n",
       " '_blocks.2._bn0.bias',\n",
       " '_blocks.2._depthwise_conv.weight',\n",
       " '_blocks.2._bn1.weight',\n",
       " '_blocks.2._bn1.bias',\n",
       " '_blocks.2._se_reduce.weight',\n",
       " '_blocks.2._se_reduce.bias',\n",
       " '_blocks.2._se_expand.weight',\n",
       " '_blocks.2._se_expand.bias',\n",
       " '_blocks.2._project_conv.weight',\n",
       " '_blocks.2._bn2.weight',\n",
       " '_blocks.2._bn2.bias',\n",
       " '_blocks.3._expand_conv.weight',\n",
       " '_blocks.3._bn0.weight',\n",
       " '_blocks.3._bn0.bias',\n",
       " '_blocks.3._depthwise_conv.weight',\n",
       " '_blocks.3._bn1.weight',\n",
       " '_blocks.3._bn1.bias',\n",
       " '_blocks.3._se_reduce.weight',\n",
       " '_blocks.3._se_reduce.bias',\n",
       " '_blocks.3._se_expand.weight',\n",
       " '_blocks.3._se_expand.bias',\n",
       " '_blocks.3._project_conv.weight',\n",
       " '_blocks.3._bn2.weight',\n",
       " '_blocks.3._bn2.bias',\n",
       " '_blocks.4._expand_conv.weight',\n",
       " '_blocks.4._bn0.weight',\n",
       " '_blocks.4._bn0.bias',\n",
       " '_blocks.4._depthwise_conv.weight',\n",
       " '_blocks.4._bn1.weight',\n",
       " '_blocks.4._bn1.bias',\n",
       " '_blocks.4._se_reduce.weight',\n",
       " '_blocks.4._se_reduce.bias',\n",
       " '_blocks.4._se_expand.weight',\n",
       " '_blocks.4._se_expand.bias',\n",
       " '_blocks.4._project_conv.weight',\n",
       " '_blocks.4._bn2.weight',\n",
       " '_blocks.4._bn2.bias',\n",
       " '_blocks.5._expand_conv.weight',\n",
       " '_blocks.5._bn0.weight',\n",
       " '_blocks.5._bn0.bias',\n",
       " '_blocks.5._depthwise_conv.weight',\n",
       " '_blocks.5._bn1.weight',\n",
       " '_blocks.5._bn1.bias',\n",
       " '_blocks.5._se_reduce.weight',\n",
       " '_blocks.5._se_reduce.bias',\n",
       " '_blocks.5._se_expand.weight',\n",
       " '_blocks.5._se_expand.bias',\n",
       " '_blocks.5._project_conv.weight',\n",
       " '_blocks.5._bn2.weight',\n",
       " '_blocks.5._bn2.bias',\n",
       " '_blocks.6._expand_conv.weight',\n",
       " '_blocks.6._bn0.weight',\n",
       " '_blocks.6._bn0.bias',\n",
       " '_blocks.6._depthwise_conv.weight',\n",
       " '_blocks.6._bn1.weight',\n",
       " '_blocks.6._bn1.bias',\n",
       " '_blocks.6._se_reduce.weight',\n",
       " '_blocks.6._se_reduce.bias',\n",
       " '_blocks.6._se_expand.weight',\n",
       " '_blocks.6._se_expand.bias',\n",
       " '_blocks.6._project_conv.weight',\n",
       " '_blocks.6._bn2.weight',\n",
       " '_blocks.6._bn2.bias',\n",
       " '_blocks.7._expand_conv.weight',\n",
       " '_blocks.7._bn0.weight',\n",
       " '_blocks.7._bn0.bias',\n",
       " '_blocks.7._depthwise_conv.weight',\n",
       " '_blocks.7._bn1.weight',\n",
       " '_blocks.7._bn1.bias',\n",
       " '_blocks.7._se_reduce.weight',\n",
       " '_blocks.7._se_reduce.bias',\n",
       " '_blocks.7._se_expand.weight',\n",
       " '_blocks.7._se_expand.bias',\n",
       " '_blocks.7._project_conv.weight',\n",
       " '_blocks.7._bn2.weight',\n",
       " '_blocks.7._bn2.bias',\n",
       " '_blocks.8._expand_conv.weight',\n",
       " '_blocks.8._bn0.weight',\n",
       " '_blocks.8._bn0.bias',\n",
       " '_blocks.8._depthwise_conv.weight',\n",
       " '_blocks.8._bn1.weight',\n",
       " '_blocks.8._bn1.bias',\n",
       " '_blocks.8._se_reduce.weight',\n",
       " '_blocks.8._se_reduce.bias',\n",
       " '_blocks.8._se_expand.weight',\n",
       " '_blocks.8._se_expand.bias',\n",
       " '_blocks.8._project_conv.weight',\n",
       " '_blocks.8._bn2.weight',\n",
       " '_blocks.8._bn2.bias',\n",
       " '_blocks.9._expand_conv.weight',\n",
       " '_blocks.9._bn0.weight',\n",
       " '_blocks.9._bn0.bias',\n",
       " '_blocks.9._depthwise_conv.weight',\n",
       " '_blocks.9._bn1.weight',\n",
       " '_blocks.9._bn1.bias',\n",
       " '_blocks.9._se_reduce.weight',\n",
       " '_blocks.9._se_reduce.bias',\n",
       " '_blocks.9._se_expand.weight',\n",
       " '_blocks.9._se_expand.bias',\n",
       " '_blocks.9._project_conv.weight',\n",
       " '_blocks.9._bn2.weight',\n",
       " '_blocks.9._bn2.bias',\n",
       " '_blocks.10._expand_conv.weight',\n",
       " '_blocks.10._bn0.weight',\n",
       " '_blocks.10._bn0.bias',\n",
       " '_blocks.10._depthwise_conv.weight',\n",
       " '_blocks.10._bn1.weight',\n",
       " '_blocks.10._bn1.bias',\n",
       " '_blocks.10._se_reduce.weight',\n",
       " '_blocks.10._se_reduce.bias',\n",
       " '_blocks.10._se_expand.weight',\n",
       " '_blocks.10._se_expand.bias',\n",
       " '_blocks.10._project_conv.weight',\n",
       " '_blocks.10._bn2.weight',\n",
       " '_blocks.10._bn2.bias',\n",
       " '_blocks.11._expand_conv.weight',\n",
       " '_blocks.11._bn0.weight',\n",
       " '_blocks.11._bn0.bias',\n",
       " '_blocks.11._depthwise_conv.weight',\n",
       " '_blocks.11._bn1.weight',\n",
       " '_blocks.11._bn1.bias',\n",
       " '_blocks.11._se_reduce.weight',\n",
       " '_blocks.11._se_reduce.bias',\n",
       " '_blocks.11._se_expand.weight',\n",
       " '_blocks.11._se_expand.bias',\n",
       " '_blocks.11._project_conv.weight',\n",
       " '_blocks.11._bn2.weight',\n",
       " '_blocks.11._bn2.bias',\n",
       " '_blocks.12._expand_conv.weight',\n",
       " '_blocks.12._bn0.weight',\n",
       " '_blocks.12._bn0.bias',\n",
       " '_blocks.12._depthwise_conv.weight',\n",
       " '_blocks.12._bn1.weight',\n",
       " '_blocks.12._bn1.bias',\n",
       " '_blocks.12._se_reduce.weight',\n",
       " '_blocks.12._se_reduce.bias',\n",
       " '_blocks.12._se_expand.weight',\n",
       " '_blocks.12._se_expand.bias',\n",
       " '_blocks.12._project_conv.weight',\n",
       " '_blocks.12._bn2.weight',\n",
       " '_blocks.12._bn2.bias',\n",
       " '_blocks.13._expand_conv.weight',\n",
       " '_blocks.13._bn0.weight',\n",
       " '_blocks.13._bn0.bias',\n",
       " '_blocks.13._depthwise_conv.weight',\n",
       " '_blocks.13._bn1.weight',\n",
       " '_blocks.13._bn1.bias',\n",
       " '_blocks.13._se_reduce.weight',\n",
       " '_blocks.13._se_reduce.bias',\n",
       " '_blocks.13._se_expand.weight',\n",
       " '_blocks.13._se_expand.bias',\n",
       " '_blocks.13._project_conv.weight',\n",
       " '_blocks.13._bn2.weight',\n",
       " '_blocks.13._bn2.bias',\n",
       " '_blocks.14._expand_conv.weight',\n",
       " '_blocks.14._bn0.weight',\n",
       " '_blocks.14._bn0.bias',\n",
       " '_blocks.14._depthwise_conv.weight',\n",
       " '_blocks.14._bn1.weight',\n",
       " '_blocks.14._bn1.bias',\n",
       " '_blocks.14._se_reduce.weight',\n",
       " '_blocks.14._se_reduce.bias',\n",
       " '_blocks.14._se_expand.weight',\n",
       " '_blocks.14._se_expand.bias',\n",
       " '_blocks.14._project_conv.weight',\n",
       " '_blocks.14._bn2.weight',\n",
       " '_blocks.14._bn2.bias',\n",
       " '_blocks.15._expand_conv.weight',\n",
       " '_blocks.15._bn0.weight',\n",
       " '_blocks.15._bn0.bias',\n",
       " '_blocks.15._depthwise_conv.weight',\n",
       " '_blocks.15._bn1.weight',\n",
       " '_blocks.15._bn1.bias',\n",
       " '_blocks.15._se_reduce.weight',\n",
       " '_blocks.15._se_reduce.bias',\n",
       " '_blocks.15._se_expand.weight',\n",
       " '_blocks.15._se_expand.bias',\n",
       " '_blocks.15._project_conv.weight',\n",
       " '_blocks.15._bn2.weight',\n",
       " '_blocks.15._bn2.bias',\n",
       " '_blocks.16._expand_conv.weight',\n",
       " '_blocks.16._bn0.weight',\n",
       " '_blocks.16._bn0.bias',\n",
       " '_blocks.16._depthwise_conv.weight',\n",
       " '_blocks.16._bn1.weight',\n",
       " '_blocks.16._bn1.bias',\n",
       " '_blocks.16._se_reduce.weight',\n",
       " '_blocks.16._se_reduce.bias',\n",
       " '_blocks.16._se_expand.weight',\n",
       " '_blocks.16._se_expand.bias',\n",
       " '_blocks.16._project_conv.weight',\n",
       " '_blocks.16._bn2.weight',\n",
       " '_blocks.16._bn2.bias',\n",
       " '_blocks.17._expand_conv.weight',\n",
       " '_blocks.17._bn0.weight',\n",
       " '_blocks.17._bn0.bias',\n",
       " '_blocks.17._depthwise_conv.weight',\n",
       " '_blocks.17._bn1.weight',\n",
       " '_blocks.17._bn1.bias',\n",
       " '_blocks.17._se_reduce.weight',\n",
       " '_blocks.17._se_reduce.bias',\n",
       " '_blocks.17._se_expand.weight',\n",
       " '_blocks.17._se_expand.bias',\n",
       " '_blocks.17._project_conv.weight',\n",
       " '_blocks.17._bn2.weight',\n",
       " '_blocks.17._bn2.bias',\n",
       " '_blocks.18._expand_conv.weight',\n",
       " '_blocks.18._bn0.weight',\n",
       " '_blocks.18._bn0.bias',\n",
       " '_blocks.18._depthwise_conv.weight',\n",
       " '_blocks.18._bn1.weight',\n",
       " '_blocks.18._bn1.bias',\n",
       " '_blocks.18._se_reduce.weight',\n",
       " '_blocks.18._se_reduce.bias',\n",
       " '_blocks.18._se_expand.weight',\n",
       " '_blocks.18._se_expand.bias',\n",
       " '_blocks.18._project_conv.weight',\n",
       " '_blocks.18._bn2.weight',\n",
       " '_blocks.18._bn2.bias',\n",
       " '_blocks.19._expand_conv.weight',\n",
       " '_blocks.19._bn0.weight',\n",
       " '_blocks.19._bn0.bias',\n",
       " '_blocks.19._depthwise_conv.weight',\n",
       " '_blocks.19._bn1.weight',\n",
       " '_blocks.19._bn1.bias',\n",
       " '_blocks.19._se_reduce.weight',\n",
       " '_blocks.19._se_reduce.bias',\n",
       " '_blocks.19._se_expand.weight',\n",
       " '_blocks.19._se_expand.bias',\n",
       " '_blocks.19._project_conv.weight',\n",
       " '_blocks.19._bn2.weight',\n",
       " '_blocks.19._bn2.bias',\n",
       " '_blocks.20._expand_conv.weight',\n",
       " '_blocks.20._bn0.weight',\n",
       " '_blocks.20._bn0.bias',\n",
       " '_blocks.20._depthwise_conv.weight',\n",
       " '_blocks.20._bn1.weight',\n",
       " '_blocks.20._bn1.bias',\n",
       " '_blocks.20._se_reduce.weight',\n",
       " '_blocks.20._se_reduce.bias',\n",
       " '_blocks.20._se_expand.weight',\n",
       " '_blocks.20._se_expand.bias',\n",
       " '_blocks.20._project_conv.weight',\n",
       " '_blocks.20._bn2.weight',\n",
       " '_blocks.20._bn2.bias',\n",
       " '_blocks.21._expand_conv.weight',\n",
       " '_blocks.21._bn0.weight',\n",
       " '_blocks.21._bn0.bias',\n",
       " '_blocks.21._depthwise_conv.weight',\n",
       " '_blocks.21._bn1.weight',\n",
       " '_blocks.21._bn1.bias',\n",
       " '_blocks.21._se_reduce.weight',\n",
       " '_blocks.21._se_reduce.bias',\n",
       " '_blocks.21._se_expand.weight',\n",
       " '_blocks.21._se_expand.bias',\n",
       " '_blocks.21._project_conv.weight',\n",
       " '_blocks.21._bn2.weight',\n",
       " '_blocks.21._bn2.bias',\n",
       " '_blocks.22._expand_conv.weight',\n",
       " '_blocks.22._bn0.weight',\n",
       " '_blocks.22._bn0.bias',\n",
       " '_blocks.22._depthwise_conv.weight',\n",
       " '_blocks.22._bn1.weight',\n",
       " '_blocks.22._bn1.bias',\n",
       " '_blocks.22._se_reduce.weight',\n",
       " '_blocks.22._se_reduce.bias',\n",
       " '_blocks.22._se_expand.weight',\n",
       " '_blocks.22._se_expand.bias',\n",
       " '_blocks.22._project_conv.weight',\n",
       " '_blocks.22._bn2.weight',\n",
       " '_blocks.22._bn2.bias',\n",
       " '_conv_head.weight',\n",
       " '_bn1.weight',\n",
       " '_bn1.bias',\n",
       " '_fc.weight',\n",
       " '_fc.bias']"
      ]
     },
     "execution_count": 24,
     "metadata": {},
     "output_type": "execute_result"
    }
   ],
   "source": [
    "parameters_list = []\n",
    "for name, param in model.named_parameters():\n",
    "        parameters_list.append(name)\n",
    "        \n",
    "parameters_list"
   ]
  },
  {
   "cell_type": "code",
   "execution_count": 25,
   "metadata": {
    "execution": {
     "iopub.execute_input": "2020-09-25T12:55:29.105983Z",
     "iopub.status.busy": "2020-09-25T12:55:29.105088Z",
     "iopub.status.idle": "2020-09-25T12:55:29.108360Z",
     "shell.execute_reply": "2020-09-25T12:55:29.107850Z"
    },
    "papermill": {
     "duration": 0.052622,
     "end_time": "2020-09-25T12:55:29.108478",
     "exception": false,
     "start_time": "2020-09-25T12:55:29.055856",
     "status": "completed"
    },
    "tags": []
   },
   "outputs": [],
   "source": [
    "def set_parameter_requires_grad(model):\n",
    "    for name, param in model.named_parameters():\n",
    "        param.requires_grad = False"
   ]
  },
  {
   "cell_type": "code",
   "execution_count": 26,
   "metadata": {
    "execution": {
     "iopub.execute_input": "2020-09-25T12:55:29.203640Z",
     "iopub.status.busy": "2020-09-25T12:55:29.202726Z",
     "iopub.status.idle": "2020-09-25T12:55:29.206291Z",
     "shell.execute_reply": "2020-09-25T12:55:29.206871Z"
    },
    "papermill": {
     "duration": 0.052966,
     "end_time": "2020-09-25T12:55:29.207013",
     "exception": false,
     "start_time": "2020-09-25T12:55:29.154047",
     "status": "completed"
    },
    "tags": []
   },
   "outputs": [
    {
     "data": {
      "text/plain": [
       "1280"
      ]
     },
     "execution_count": 26,
     "metadata": {},
     "output_type": "execute_result"
    }
   ],
   "source": [
    "model._fc.in_features"
   ]
  },
  {
   "cell_type": "code",
   "execution_count": 27,
   "metadata": {
    "execution": {
     "iopub.execute_input": "2020-09-25T12:55:29.314490Z",
     "iopub.status.busy": "2020-09-25T12:55:29.313634Z",
     "iopub.status.idle": "2020-09-25T12:55:29.466835Z",
     "shell.execute_reply": "2020-09-25T12:55:29.466102Z"
    },
    "papermill": {
     "duration": 0.214727,
     "end_time": "2020-09-25T12:55:29.466948",
     "exception": false,
     "start_time": "2020-09-25T12:55:29.252221",
     "status": "completed"
    },
    "tags": []
   },
   "outputs": [],
   "source": [
    "n_classes = len(np.unique(train_val_labels))\n",
    "set_parameter_requires_grad(model)\n",
    "\n",
    "additional_ftrs = 4096\n",
    "\n",
    "#Изменяем выходные слои моделей\n",
    "num_ftrs_resnext = model._fc.in_features\n",
    "new_fc_seq = nn.Sequential(\n",
    "    nn.Linear(num_ftrs_resnext,additional_ftrs),\n",
    "    nn.LeakyReLU(),\n",
    "    nn.Linear(additional_ftrs, n_classes)\n",
    ")\n",
    "model._fc = new_fc_seq"
   ]
  },
  {
   "cell_type": "code",
   "execution_count": 28,
   "metadata": {
    "execution": {
     "iopub.execute_input": "2020-09-25T12:55:29.567655Z",
     "iopub.status.busy": "2020-09-25T12:55:29.566735Z",
     "iopub.status.idle": "2020-09-25T12:55:29.572449Z",
     "shell.execute_reply": "2020-09-25T12:55:29.573155Z"
    },
    "papermill": {
     "duration": 0.060693,
     "end_time": "2020-09-25T12:55:29.573318",
     "exception": false,
     "start_time": "2020-09-25T12:55:29.512625",
     "status": "completed"
    },
    "tags": []
   },
   "outputs": [
    {
     "name": "stdout",
     "output_type": "stream",
     "text": [
      "_fc.0.weight\n",
      "_fc.0.bias\n",
      "_fc.2.weight\n",
      "_fc.2.bias\n"
     ]
    }
   ],
   "source": [
    "params_to_update = []\n",
    "for name,p in model.named_parameters():\n",
    "    if p.requires_grad:\n",
    "        print(name)\n",
    "        params_to_update.append(p)"
   ]
  },
  {
   "cell_type": "code",
   "execution_count": 29,
   "metadata": {
    "execution": {
     "iopub.execute_input": "2020-09-25T12:55:29.679369Z",
     "iopub.status.busy": "2020-09-25T12:55:29.678498Z",
     "iopub.status.idle": "2020-09-25T12:55:29.681095Z",
     "shell.execute_reply": "2020-09-25T12:55:29.681524Z"
    },
    "papermill": {
     "duration": 0.06015,
     "end_time": "2020-09-25T12:55:29.681641",
     "exception": false,
     "start_time": "2020-09-25T12:55:29.621491",
     "status": "completed"
    },
    "tags": []
   },
   "outputs": [],
   "source": [
    "def train(train_files, val_files, model, epochs, batch_size, params_to_update, weights, lr = 0.001):\n",
    "    train_loader = DataLoader(train_dataset, batch_size=batch_size, shuffle=True, num_workers=4)\n",
    "    val_loader = DataLoader(val_dataset, batch_size=batch_size, shuffle=False)\n",
    "\n",
    "    history = []\n",
    "    log_template = \"\\nEpoch {ep:03d} train_loss: {t_loss:0.4f} \\\n",
    "    val_loss {v_loss:0.4f} train_acc {t_acc:0.4f} val_acc {v_acc:0.4f}\"\n",
    "\n",
    "    with tqdm(desc=\"epoch\", total=epochs) as pbar_outer:\n",
    "        opt = torch.optim.Adam(params_to_update, lr)\n",
    "        criterion = nn.CrossEntropyLoss(weight=weights)\n",
    "\n",
    "        for epoch in range(epochs):\n",
    "            train_loss, train_acc = fit_epoch(model, train_loader, criterion, opt)\n",
    "            print(\"loss\", train_loss)\n",
    "            \n",
    "            val_loss, val_acc = eval_epoch(model, val_loader, criterion)\n",
    "            history.append((train_loss, train_acc, val_loss, val_acc))\n",
    "            \n",
    "            pbar_outer.update(1)\n",
    "            tqdm.write(log_template.format(ep=epoch+1, t_loss=train_loss,\\\n",
    "                                           v_loss=val_loss, t_acc=train_acc, v_acc=val_acc))\n",
    "            \n",
    "    return history"
   ]
  },
  {
   "cell_type": "code",
   "execution_count": 30,
   "metadata": {
    "execution": {
     "iopub.execute_input": "2020-09-25T12:55:29.779770Z",
     "iopub.status.busy": "2020-09-25T12:55:29.779097Z",
     "iopub.status.idle": "2020-09-25T12:55:29.828570Z",
     "shell.execute_reply": "2020-09-25T12:55:29.829033Z"
    },
    "papermill": {
     "duration": 0.10071,
     "end_time": "2020-09-25T12:55:29.829173",
     "exception": false,
     "start_time": "2020-09-25T12:55:29.728463",
     "status": "completed"
    },
    "tags": []
   },
   "outputs": [],
   "source": [
    "model = model.to(DEVICE)"
   ]
  },
  {
   "cell_type": "code",
   "execution_count": 31,
   "metadata": {
    "execution": {
     "iopub.execute_input": "2020-09-25T12:55:29.953541Z",
     "iopub.status.busy": "2020-09-25T12:55:29.940864Z",
     "iopub.status.idle": "2020-09-25T12:55:30.837065Z",
     "shell.execute_reply": "2020-09-25T12:55:30.835911Z"
    },
    "papermill": {
     "duration": 0.960843,
     "end_time": "2020-09-25T12:55:30.837205",
     "exception": false,
     "start_time": "2020-09-25T12:55:29.876362",
     "status": "completed"
    },
    "tags": []
   },
   "outputs": [],
   "source": [
    "if val_dataset is None:\n",
    "    val_dataset = GoodsDataset(val_files, mode='val')\n",
    "    \n",
    "train_dataset = GoodsDataset(train_files, mode='train')"
   ]
  },
  {
   "cell_type": "code",
   "execution_count": 32,
   "metadata": {
    "execution": {
     "iopub.execute_input": "2020-09-25T12:55:30.934287Z",
     "iopub.status.busy": "2020-09-25T12:55:30.933400Z",
     "iopub.status.idle": "2020-09-25T12:55:30.935434Z",
     "shell.execute_reply": "2020-09-25T12:55:30.935972Z"
    },
    "papermill": {
     "duration": 0.05271,
     "end_time": "2020-09-25T12:55:30.936099",
     "exception": false,
     "start_time": "2020-09-25T12:55:30.883389",
     "status": "completed"
    },
    "tags": []
   },
   "outputs": [],
   "source": [
    "from PIL import ImageFile\n",
    "ImageFile.LOAD_TRUNCATED_IMAGES = True"
   ]
  },
  {
   "cell_type": "code",
   "execution_count": 33,
   "metadata": {
    "execution": {
     "iopub.execute_input": "2020-09-25T12:55:31.048455Z",
     "iopub.status.busy": "2020-09-25T12:55:31.043166Z",
     "iopub.status.idle": "2020-09-25T12:55:31.072361Z",
     "shell.execute_reply": "2020-09-25T12:55:31.071086Z"
    },
    "papermill": {
     "duration": 0.090325,
     "end_time": "2020-09-25T12:55:31.072504",
     "exception": false,
     "start_time": "2020-09-25T12:55:30.982179",
     "status": "completed"
    },
    "tags": []
   },
   "outputs": [
    {
     "name": "stdout",
     "output_type": "stream",
     "text": [
      "_conv_stem.weight\n",
      "_blocks.3._expand_conv.weight\n",
      "_blocks.3._bn0.weight\n",
      "_blocks.3._bn0.bias\n",
      "_blocks.3._depthwise_conv.weight\n",
      "_blocks.3._bn1.weight\n",
      "_blocks.3._bn1.bias\n",
      "_blocks.3._se_reduce.weight\n",
      "_blocks.3._se_reduce.bias\n",
      "_blocks.3._se_expand.weight\n",
      "_blocks.3._se_expand.bias\n",
      "_blocks.3._project_conv.weight\n",
      "_blocks.3._bn2.weight\n",
      "_blocks.3._bn2.bias\n",
      "_blocks.4._expand_conv.weight\n",
      "_blocks.4._bn0.weight\n",
      "_blocks.4._bn0.bias\n",
      "_blocks.4._depthwise_conv.weight\n",
      "_blocks.4._bn1.weight\n",
      "_blocks.4._bn1.bias\n",
      "_blocks.4._se_reduce.weight\n",
      "_blocks.4._se_reduce.bias\n",
      "_blocks.4._se_expand.weight\n",
      "_blocks.4._se_expand.bias\n",
      "_blocks.4._project_conv.weight\n",
      "_blocks.4._bn2.weight\n",
      "_blocks.4._bn2.bias\n",
      "_blocks.5._expand_conv.weight\n",
      "_blocks.5._bn0.weight\n",
      "_blocks.5._bn0.bias\n",
      "_blocks.5._depthwise_conv.weight\n",
      "_blocks.5._bn1.weight\n",
      "_blocks.5._bn1.bias\n",
      "_blocks.5._se_reduce.weight\n",
      "_blocks.5._se_reduce.bias\n",
      "_blocks.5._se_expand.weight\n",
      "_blocks.5._se_expand.bias\n",
      "_blocks.5._project_conv.weight\n",
      "_blocks.5._bn2.weight\n",
      "_blocks.5._bn2.bias\n",
      "_blocks.6._expand_conv.weight\n",
      "_blocks.6._bn0.weight\n",
      "_blocks.6._bn0.bias\n",
      "_blocks.6._depthwise_conv.weight\n",
      "_blocks.6._bn1.weight\n",
      "_blocks.6._bn1.bias\n",
      "_blocks.6._se_reduce.weight\n",
      "_blocks.6._se_reduce.bias\n",
      "_blocks.6._se_expand.weight\n",
      "_blocks.6._se_expand.bias\n",
      "_blocks.6._project_conv.weight\n",
      "_blocks.6._bn2.weight\n",
      "_blocks.6._bn2.bias\n",
      "_blocks.7._expand_conv.weight\n",
      "_blocks.7._bn0.weight\n",
      "_blocks.7._bn0.bias\n",
      "_blocks.7._depthwise_conv.weight\n",
      "_blocks.7._bn1.weight\n",
      "_blocks.7._bn1.bias\n",
      "_blocks.7._se_reduce.weight\n",
      "_blocks.7._se_reduce.bias\n",
      "_blocks.7._se_expand.weight\n",
      "_blocks.7._se_expand.bias\n",
      "_blocks.7._project_conv.weight\n",
      "_blocks.7._bn2.weight\n",
      "_blocks.7._bn2.bias\n",
      "_blocks.8._expand_conv.weight\n",
      "_blocks.8._bn0.weight\n",
      "_blocks.8._bn0.bias\n",
      "_blocks.8._depthwise_conv.weight\n",
      "_blocks.8._bn1.weight\n",
      "_blocks.8._bn1.bias\n",
      "_blocks.8._se_reduce.weight\n",
      "_blocks.8._se_reduce.bias\n",
      "_blocks.8._se_expand.weight\n",
      "_blocks.8._se_expand.bias\n",
      "_blocks.8._project_conv.weight\n",
      "_blocks.8._bn2.weight\n",
      "_blocks.8._bn2.bias\n",
      "_blocks.9._expand_conv.weight\n",
      "_blocks.9._bn0.weight\n",
      "_blocks.9._bn0.bias\n",
      "_blocks.9._depthwise_conv.weight\n",
      "_blocks.9._bn1.weight\n",
      "_blocks.9._bn1.bias\n",
      "_blocks.9._se_reduce.weight\n",
      "_blocks.9._se_reduce.bias\n",
      "_blocks.9._se_expand.weight\n",
      "_blocks.9._se_expand.bias\n",
      "_blocks.9._project_conv.weight\n",
      "_blocks.9._bn2.weight\n",
      "_blocks.9._bn2.bias\n",
      "_blocks.10._expand_conv.weight\n",
      "_blocks.10._bn0.weight\n",
      "_blocks.10._bn0.bias\n",
      "_blocks.10._depthwise_conv.weight\n",
      "_blocks.10._bn1.weight\n",
      "_blocks.10._bn1.bias\n",
      "_blocks.10._se_reduce.weight\n",
      "_blocks.10._se_reduce.bias\n",
      "_blocks.10._se_expand.weight\n",
      "_blocks.10._se_expand.bias\n",
      "_blocks.10._project_conv.weight\n",
      "_blocks.10._bn2.weight\n",
      "_blocks.10._bn2.bias\n",
      "_blocks.11._expand_conv.weight\n",
      "_blocks.11._bn0.weight\n",
      "_blocks.11._bn0.bias\n",
      "_blocks.11._depthwise_conv.weight\n",
      "_blocks.11._bn1.weight\n",
      "_blocks.11._bn1.bias\n",
      "_blocks.11._se_reduce.weight\n",
      "_blocks.11._se_reduce.bias\n",
      "_blocks.11._se_expand.weight\n",
      "_blocks.11._se_expand.bias\n",
      "_blocks.11._project_conv.weight\n",
      "_blocks.11._bn2.weight\n",
      "_blocks.11._bn2.bias\n",
      "_blocks.12._expand_conv.weight\n",
      "_blocks.12._bn0.weight\n",
      "_blocks.12._bn0.bias\n",
      "_blocks.12._depthwise_conv.weight\n",
      "_blocks.12._bn1.weight\n",
      "_blocks.12._bn1.bias\n",
      "_blocks.12._se_reduce.weight\n",
      "_blocks.12._se_reduce.bias\n",
      "_blocks.12._se_expand.weight\n",
      "_blocks.12._se_expand.bias\n",
      "_blocks.12._project_conv.weight\n",
      "_blocks.12._bn2.weight\n",
      "_blocks.12._bn2.bias\n",
      "_blocks.13._expand_conv.weight\n",
      "_blocks.13._bn0.weight\n",
      "_blocks.13._bn0.bias\n",
      "_blocks.13._depthwise_conv.weight\n",
      "_blocks.13._bn1.weight\n",
      "_blocks.13._bn1.bias\n",
      "_blocks.13._se_reduce.weight\n",
      "_blocks.13._se_reduce.bias\n",
      "_blocks.13._se_expand.weight\n",
      "_blocks.13._se_expand.bias\n",
      "_blocks.13._project_conv.weight\n",
      "_blocks.13._bn2.weight\n",
      "_blocks.13._bn2.bias\n",
      "_blocks.14._expand_conv.weight\n",
      "_blocks.14._bn0.weight\n",
      "_blocks.14._bn0.bias\n",
      "_blocks.14._depthwise_conv.weight\n",
      "_blocks.14._bn1.weight\n",
      "_blocks.14._bn1.bias\n",
      "_blocks.14._se_reduce.weight\n",
      "_blocks.14._se_reduce.bias\n",
      "_blocks.14._se_expand.weight\n",
      "_blocks.14._se_expand.bias\n",
      "_blocks.14._project_conv.weight\n",
      "_blocks.14._bn2.weight\n",
      "_blocks.14._bn2.bias\n",
      "_blocks.15._expand_conv.weight\n",
      "_blocks.15._bn0.weight\n",
      "_blocks.15._bn0.bias\n",
      "_blocks.15._depthwise_conv.weight\n",
      "_blocks.15._bn1.weight\n",
      "_blocks.15._bn1.bias\n",
      "_blocks.15._se_reduce.weight\n",
      "_blocks.15._se_reduce.bias\n",
      "_blocks.15._se_expand.weight\n",
      "_blocks.15._se_expand.bias\n",
      "_blocks.15._project_conv.weight\n",
      "_blocks.15._bn2.weight\n",
      "_blocks.15._bn2.bias\n",
      "_blocks.16._expand_conv.weight\n",
      "_blocks.16._bn0.weight\n",
      "_blocks.16._bn0.bias\n",
      "_blocks.16._depthwise_conv.weight\n",
      "_blocks.16._bn1.weight\n",
      "_blocks.16._bn1.bias\n",
      "_blocks.16._se_reduce.weight\n",
      "_blocks.16._se_reduce.bias\n",
      "_blocks.16._se_expand.weight\n",
      "_blocks.16._se_expand.bias\n",
      "_blocks.16._project_conv.weight\n",
      "_blocks.16._bn2.weight\n",
      "_blocks.16._bn2.bias\n",
      "_blocks.17._expand_conv.weight\n",
      "_blocks.17._bn0.weight\n",
      "_blocks.17._bn0.bias\n",
      "_blocks.17._depthwise_conv.weight\n",
      "_blocks.17._bn1.weight\n",
      "_blocks.17._bn1.bias\n",
      "_blocks.17._se_reduce.weight\n",
      "_blocks.17._se_reduce.bias\n",
      "_blocks.17._se_expand.weight\n",
      "_blocks.17._se_expand.bias\n",
      "_blocks.17._project_conv.weight\n",
      "_blocks.17._bn2.weight\n",
      "_blocks.17._bn2.bias\n",
      "_blocks.18._expand_conv.weight\n",
      "_blocks.18._bn0.weight\n",
      "_blocks.18._bn0.bias\n",
      "_blocks.18._depthwise_conv.weight\n",
      "_blocks.18._bn1.weight\n",
      "_blocks.18._bn1.bias\n",
      "_blocks.18._se_reduce.weight\n",
      "_blocks.18._se_reduce.bias\n",
      "_blocks.18._se_expand.weight\n",
      "_blocks.18._se_expand.bias\n",
      "_blocks.18._project_conv.weight\n",
      "_blocks.18._bn2.weight\n",
      "_blocks.18._bn2.bias\n",
      "_blocks.19._expand_conv.weight\n",
      "_blocks.19._bn0.weight\n",
      "_blocks.19._bn0.bias\n",
      "_blocks.19._depthwise_conv.weight\n",
      "_blocks.19._bn1.weight\n",
      "_blocks.19._bn1.bias\n",
      "_blocks.19._se_reduce.weight\n",
      "_blocks.19._se_reduce.bias\n",
      "_blocks.19._se_expand.weight\n",
      "_blocks.19._se_expand.bias\n",
      "_blocks.19._project_conv.weight\n",
      "_blocks.19._bn2.weight\n",
      "_blocks.19._bn2.bias\n",
      "_blocks.20._expand_conv.weight\n",
      "_blocks.20._bn0.weight\n",
      "_blocks.20._bn0.bias\n",
      "_blocks.20._depthwise_conv.weight\n",
      "_blocks.20._bn1.weight\n",
      "_blocks.20._bn1.bias\n",
      "_blocks.20._se_reduce.weight\n",
      "_blocks.20._se_reduce.bias\n",
      "_blocks.20._se_expand.weight\n",
      "_blocks.20._se_expand.bias\n",
      "_blocks.20._project_conv.weight\n",
      "_blocks.20._bn2.weight\n",
      "_blocks.20._bn2.bias\n",
      "_blocks.21._expand_conv.weight\n",
      "_blocks.21._bn0.weight\n",
      "_blocks.21._bn0.bias\n",
      "_blocks.21._depthwise_conv.weight\n",
      "_blocks.21._bn1.weight\n",
      "_blocks.21._bn1.bias\n",
      "_blocks.21._se_reduce.weight\n",
      "_blocks.21._se_reduce.bias\n",
      "_blocks.21._se_expand.weight\n",
      "_blocks.21._se_expand.bias\n",
      "_blocks.21._project_conv.weight\n",
      "_blocks.21._bn2.weight\n",
      "_blocks.21._bn2.bias\n",
      "_blocks.22._expand_conv.weight\n",
      "_blocks.22._bn0.weight\n",
      "_blocks.22._bn0.bias\n",
      "_blocks.22._depthwise_conv.weight\n",
      "_blocks.22._bn1.weight\n",
      "_blocks.22._bn1.bias\n",
      "_blocks.22._se_reduce.weight\n",
      "_blocks.22._se_reduce.bias\n",
      "_blocks.22._se_expand.weight\n",
      "_blocks.22._se_expand.bias\n",
      "_blocks.22._project_conv.weight\n",
      "_blocks.22._bn2.weight\n",
      "_blocks.22._bn2.bias\n",
      "_conv_head.weight\n",
      "_bn1.weight\n",
      "_bn1.bias\n"
     ]
    }
   ],
   "source": [
    "for name,p in model.named_parameters():\n",
    "    if name.split('.')[0] == '_bn0':\n",
    "        num = 0\n",
    "    elif name.split('.')[1] == 'weight' :\n",
    "        num = 4\n",
    "    elif name.split('.')[1] == 'bias' :\n",
    "        num = 4\n",
    "    else :\n",
    "        num = int(name.split('.')[1])\n",
    "    if num > 2:\n",
    "        p.requires_grad = True\n",
    "        print(name)\n",
    "        params_to_update.append(p)"
   ]
  },
  {
   "cell_type": "code",
   "execution_count": 34,
   "metadata": {
    "execution": {
     "iopub.execute_input": "2020-09-25T12:55:31.210091Z",
     "iopub.status.busy": "2020-09-25T12:55:31.209208Z",
     "iopub.status.idle": "2020-09-25T14:32:56.543969Z",
     "shell.execute_reply": "2020-09-25T14:32:56.538304Z"
    },
    "papermill": {
     "duration": 5845.388502,
     "end_time": "2020-09-25T14:32:56.544134",
     "exception": false,
     "start_time": "2020-09-25T12:55:31.155632",
     "status": "completed"
    },
    "tags": []
   },
   "outputs": [
    {
     "name": "stderr",
     "output_type": "stream",
     "text": [
      "epoch:   0%|          | 0/2 [00:00<?, ?it/s]"
     ]
    },
    {
     "name": "stdout",
     "output_type": "stream",
     "text": [
      "loss 4.008334397319365\n"
     ]
    },
    {
     "name": "stderr",
     "output_type": "stream",
     "text": [
      "epoch:  50%|█████     | 1/2 [48:37<48:37, 2917.92s/it]"
     ]
    },
    {
     "name": "stdout",
     "output_type": "stream",
     "text": [
      "\n",
      "Epoch 001 train_loss: 4.0083     val_loss 1.3915 train_acc 0.2964 val_acc 0.6045\n",
      "loss 0.9124351742964437\n"
     ]
    },
    {
     "name": "stderr",
     "output_type": "stream",
     "text": [
      "epoch: 100%|██████████| 2/2 [1:37:25<00:00, 2922.64s/it]"
     ]
    },
    {
     "name": "stdout",
     "output_type": "stream",
     "text": [
      "\n",
      "Epoch 002 train_loss: 0.9124     val_loss 1.0180 train_acc 0.7024 val_acc 0.6998\n"
     ]
    },
    {
     "name": "stderr",
     "output_type": "stream",
     "text": [
      "\n"
     ]
    }
   ],
   "source": [
    "history = train(train_dataset, val_dataset, model=model, epochs=2, batch_size=64, lr=3e-4, params_to_update=params_to_update, weights=weights_for_classes)"
   ]
  },
  {
   "cell_type": "code",
   "execution_count": 35,
   "metadata": {
    "execution": {
     "iopub.execute_input": "2020-09-25T14:32:56.705569Z",
     "iopub.status.busy": "2020-09-25T14:32:56.704922Z",
     "iopub.status.idle": "2020-09-25T14:32:56.708017Z",
     "shell.execute_reply": "2020-09-25T14:32:56.708452Z"
    },
    "papermill": {
     "duration": 0.113248,
     "end_time": "2020-09-25T14:32:56.708579",
     "exception": false,
     "start_time": "2020-09-25T14:32:56.595331",
     "status": "completed"
    },
    "tags": []
   },
   "outputs": [],
   "source": [
    "loss, acc, val_loss, val_acc = zip(*history)"
   ]
  },
  {
   "cell_type": "code",
   "execution_count": 36,
   "metadata": {
    "execution": {
     "iopub.execute_input": "2020-09-25T14:32:56.820394Z",
     "iopub.status.busy": "2020-09-25T14:32:56.819439Z",
     "iopub.status.idle": "2020-09-25T14:32:57.173960Z",
     "shell.execute_reply": "2020-09-25T14:32:57.173084Z"
    },
    "papermill": {
     "duration": 0.414306,
     "end_time": "2020-09-25T14:32:57.174080",
     "exception": false,
     "start_time": "2020-09-25T14:32:56.759774",
     "status": "completed"
    },
    "tags": []
   },
   "outputs": [
    {
     "data": {
      "image/png": "[encoded data removed]",
      "text/plain": [
       "<Figure size 1080x648 with 1 Axes>"
      ]
     },
     "metadata": {},
     "output_type": "display_data"
    }
   ],
   "source": [
    "sns.set()\n",
    "plt.figure(figsize=(15, 9))\n",
    "plt.plot(loss, label=\"train_loss\")\n",
    "plt.plot(val_loss, label=\"val_loss\")\n",
    "plt.legend(loc='best')\n",
    "plt.xlabel(\"epochs\")\n",
    "plt.ylabel(\"loss\")\n",
    "plt.show()"
   ]
  },
  {
   "cell_type": "code",
   "execution_count": 37,
   "metadata": {
    "execution": {
     "iopub.execute_input": "2020-09-25T14:32:57.288161Z",
     "iopub.status.busy": "2020-09-25T14:32:57.287319Z",
     "iopub.status.idle": "2020-09-25T14:32:57.653119Z",
     "shell.execute_reply": "2020-09-25T14:32:57.653993Z"
    },
    "papermill": {
     "duration": 0.42506,
     "end_time": "2020-09-25T14:32:57.654212",
     "exception": false,
     "start_time": "2020-09-25T14:32:57.229152",
     "status": "completed"
    },
    "tags": []
   },
   "outputs": [],
   "source": [
    "path_model = \"eff_net_w.pt\"\n",
    "torch.save(model.state_dict(), path_model)"
   ]
  },
  {
   "cell_type": "code",
   "execution_count": 38,
   "metadata": {
    "execution": {
     "iopub.execute_input": "2020-09-25T14:32:57.771594Z",
     "iopub.status.busy": "2020-09-25T14:32:57.770157Z",
     "iopub.status.idle": "2020-09-25T16:57:36.187569Z",
     "shell.execute_reply": "2020-09-25T16:57:36.181937Z"
    },
    "papermill": {
     "duration": 8678.475331,
     "end_time": "2020-09-25T16:57:36.187767",
     "exception": false,
     "start_time": "2020-09-25T14:32:57.712436",
     "status": "completed"
    },
    "tags": []
   },
   "outputs": [
    {
     "name": "stderr",
     "output_type": "stream",
     "text": [
      "epoch:   0%|          | 0/3 [00:00<?, ?it/s]"
     ]
    },
    {
     "name": "stdout",
     "output_type": "stream",
     "text": [
      "loss 0.5274751363869475\n"
     ]
    },
    {
     "name": "stderr",
     "output_type": "stream",
     "text": [
      "epoch:  33%|███▎      | 1/3 [48:53<1:37:46, 2933.14s/it]"
     ]
    },
    {
     "name": "stdout",
     "output_type": "stream",
     "text": [
      "\n",
      "Epoch 001 train_loss: 0.5275     val_loss 0.9523 train_acc 0.8093 val_acc 0.7393\n",
      "loss 0.2993268104194815\n"
     ]
    },
    {
     "name": "stderr",
     "output_type": "stream",
     "text": [
      "epoch:  67%|██████▋   | 2/3 [1:36:35<48:31, 2911.99s/it]"
     ]
    },
    {
     "name": "stdout",
     "output_type": "stream",
     "text": [
      "\n",
      "Epoch 002 train_loss: 0.2993     val_loss 0.9179 train_acc 0.8774 val_acc 0.7547\n",
      "loss 0.22068168017162942\n"
     ]
    },
    {
     "name": "stderr",
     "output_type": "stream",
     "text": [
      "epoch: 100%|██████████| 3/3 [2:24:38<00:00, 2892.78s/it]"
     ]
    },
    {
     "name": "stdout",
     "output_type": "stream",
     "text": [
      "\n",
      "Epoch 003 train_loss: 0.2207     val_loss 0.9629 train_acc 0.9078 val_acc 0.7559\n"
     ]
    },
    {
     "name": "stderr",
     "output_type": "stream",
     "text": [
      "\n"
     ]
    }
   ],
   "source": [
    "history_2 = train(train_dataset, val_dataset, model=model, epochs=3, batch_size=64, lr=3e-4, params_to_update=params_to_update, weights=weights_for_classes)"
   ]
  },
  {
   "cell_type": "code",
   "execution_count": 39,
   "metadata": {
    "execution": {
     "iopub.execute_input": "2020-09-25T16:57:36.315472Z",
     "iopub.status.busy": "2020-09-25T16:57:36.314563Z",
     "iopub.status.idle": "2020-09-25T16:57:36.673270Z",
     "shell.execute_reply": "2020-09-25T16:57:36.673759Z"
    },
    "papermill": {
     "duration": 0.426549,
     "end_time": "2020-09-25T16:57:36.673902",
     "exception": false,
     "start_time": "2020-09-25T16:57:36.247353",
     "status": "completed"
    },
    "tags": []
   },
   "outputs": [
    {
     "data": {
      "image/png": "[encoded data removed]",
      "text/plain": [
       "<Figure size 1080x648 with 1 Axes>"
      ]
     },
     "metadata": {},
     "output_type": "display_data"
    }
   ],
   "source": [
    "loss, acc, val_loss, val_acc = zip(*history_2)\n",
    "plt.figure(figsize=(15, 9))\n",
    "plt.plot(loss, label=\"train_loss\")\n",
    "plt.plot(val_loss, label=\"val_loss\")\n",
    "plt.legend(loc='best')\n",
    "plt.xlabel(\"epochs\")\n",
    "plt.ylabel(\"loss\")\n",
    "plt.show()"
   ]
  },
  {
   "cell_type": "code",
   "execution_count": 40,
   "metadata": {
    "execution": {
     "iopub.execute_input": "2020-09-25T16:57:36.802840Z",
     "iopub.status.busy": "2020-09-25T16:57:36.802003Z",
     "iopub.status.idle": "2020-09-25T16:57:37.152934Z",
     "shell.execute_reply": "2020-09-25T16:57:37.152354Z"
    },
    "papermill": {
     "duration": 0.41699,
     "end_time": "2020-09-25T16:57:37.153049",
     "exception": false,
     "start_time": "2020-09-25T16:57:36.736059",
     "status": "completed"
    },
    "tags": []
   },
   "outputs": [],
   "source": [
    "path_model = \"eff_net_w_2.pt\"\n",
    "torch.save(model.state_dict(), path_model)"
   ]
  },
  {
   "cell_type": "code",
   "execution_count": 41,
   "metadata": {
    "execution": {
     "iopub.execute_input": "2020-09-25T16:57:37.285307Z",
     "iopub.status.busy": "2020-09-25T16:57:37.283538Z",
     "iopub.status.idle": "2020-09-25T21:52:43.383833Z",
     "shell.execute_reply": "2020-09-25T21:52:43.376462Z"
    },
    "papermill": {
     "duration": 17706.169236,
     "end_time": "2020-09-25T21:52:43.384018",
     "exception": false,
     "start_time": "2020-09-25T16:57:37.214782",
     "status": "completed"
    },
    "tags": []
   },
   "outputs": [
    {
     "name": "stderr",
     "output_type": "stream",
     "text": [
      "epoch:   0%|          | 0/6 [00:00<?, ?it/s]"
     ]
    },
    {
     "name": "stdout",
     "output_type": "stream",
     "text": [
      "loss 0.11320451673306095\n"
     ]
    },
    {
     "name": "stderr",
     "output_type": "stream",
     "text": [
      "epoch:  17%|█▋        | 1/6 [49:11<4:05:55, 2951.01s/it]"
     ]
    },
    {
     "name": "stdout",
     "output_type": "stream",
     "text": [
      "\n",
      "Epoch 001 train_loss: 0.1132     val_loss 0.8094 train_acc 0.9462 val_acc 0.7906\n",
      "loss 0.07654902205285383\n"
     ]
    },
    {
     "name": "stderr",
     "output_type": "stream",
     "text": [
      "epoch:  33%|███▎      | 2/6 [1:39:03<3:17:34, 2963.54s/it]"
     ]
    },
    {
     "name": "stdout",
     "output_type": "stream",
     "text": [
      "\n",
      "Epoch 002 train_loss: 0.0765     val_loss 0.7870 train_acc 0.9595 val_acc 0.8006\n",
      "loss 0.059197587429680905\n"
     ]
    },
    {
     "name": "stderr",
     "output_type": "stream",
     "text": [
      "epoch:  50%|█████     | 3/6 [2:29:25<2:29:03, 2981.12s/it]"
     ]
    },
    {
     "name": "stdout",
     "output_type": "stream",
     "text": [
      "\n",
      "Epoch 003 train_loss: 0.0592     val_loss 0.7830 train_acc 0.9666 val_acc 0.8054\n",
      "loss 0.048433865589863984\n"
     ]
    },
    {
     "name": "stderr",
     "output_type": "stream",
     "text": [
      "epoch:  67%|██████▋   | 4/6 [3:17:51<1:38:37, 2958.53s/it]"
     ]
    },
    {
     "name": "stdout",
     "output_type": "stream",
     "text": [
      "\n",
      "Epoch 004 train_loss: 0.0484     val_loss 0.7912 train_acc 0.9721 val_acc 0.8071\n",
      "loss 0.0410506767625739\n"
     ]
    },
    {
     "name": "stderr",
     "output_type": "stream",
     "text": [
      "epoch:  83%|████████▎ | 5/6 [4:06:25<49:05, 2945.20s/it]"
     ]
    },
    {
     "name": "stdout",
     "output_type": "stream",
     "text": [
      "\n",
      "Epoch 005 train_loss: 0.0411     val_loss 0.8038 train_acc 0.9751 val_acc 0.8094\n",
      "loss 0.036165816248445684\n"
     ]
    },
    {
     "name": "stderr",
     "output_type": "stream",
     "text": [
      "epoch: 100%|██████████| 6/6 [4:55:05<00:00, 2951.00s/it]"
     ]
    },
    {
     "name": "stdout",
     "output_type": "stream",
     "text": [
      "\n",
      "Epoch 006 train_loss: 0.0362     val_loss 0.8186 train_acc 0.9773 val_acc 0.8107\n"
     ]
    },
    {
     "name": "stderr",
     "output_type": "stream",
     "text": [
      "\n"
     ]
    }
   ],
   "source": [
    "history_3 = train(train_dataset, val_dataset, model=model, epochs=6, batch_size=64, lr=3e-6, params_to_update=params_to_update, weights=weights_for_classes)"
   ]
  },
  {
   "cell_type": "code",
   "execution_count": 42,
   "metadata": {
    "execution": {
     "iopub.execute_input": "2020-09-25T21:52:43.610076Z",
     "iopub.status.busy": "2020-09-25T21:52:43.608836Z",
     "iopub.status.idle": "2020-09-25T21:52:44.055639Z",
     "shell.execute_reply": "2020-09-25T21:52:44.056343Z"
    },
    "papermill": {
     "duration": 0.559745,
     "end_time": "2020-09-25T21:52:44.056478",
     "exception": false,
     "start_time": "2020-09-25T21:52:43.496733",
     "status": "completed"
    },
    "tags": []
   },
   "outputs": [
    {
     "data": {
      "image/png": "[encoded data removed]",
      "text/plain": [
       "<Figure size 1080x648 with 1 Axes>"
      ]
     },
     "metadata": {},
     "output_type": "display_data"
    }
   ],
   "source": [
    "\n",
    "loss, acc, val_loss, val_acc = zip(*history_3)\n",
    "plt.figure(figsize=(15, 9))\n",
    "plt.plot(loss, label=\"train_loss\")\n",
    "plt.plot(val_loss, label=\"val_loss\")\n",
    "plt.legend(loc='best')\n",
    "plt.xlabel(\"epochs\")\n",
    "plt.ylabel(\"loss\")\n",
    "plt.show()"
   ]
  },
  {
   "cell_type": "code",
   "execution_count": null,
   "metadata": {
    "papermill": {
     "duration": 0.083102,
     "end_time": "2020-09-25T21:52:44.220511",
     "exception": false,
     "start_time": "2020-09-25T21:52:44.137409",
     "status": "completed"
    },
    "tags": []
   },
   "outputs": [],
   "source": []
  }
 ],
 "metadata": {
  "kernelspec": {
   "display_name": "Python 3",
   "language": "python",
   "name": "python3"
  },
  "language_info": {
   "codemirror_mode": {
    "name": "ipython",
    "version": 3
   },
   "file_extension": ".py",
   "mimetype": "text/x-python",
   "name": "python",
   "nbconvert_exporter": "python",
   "pygments_lexer": "ipython3",
   "version": "3.7.6"
  },
  "papermill": {
   "duration": 32274.925597,
   "end_time": "2020-09-25T21:52:45.020999",
   "environment_variables": {},
   "exception": null,
   "input_path": "__notebook__.ipynb",
   "output_path": "__notebook__.ipynb",
   "parameters": {},
   "start_time": "2020-09-25T12:54:50.095402",
   "version": "2.1.0"
  },
  "widgets": {
   "application/vnd.jupyter.widget-state+json": {
    "state": {
     "02b0920fa0824a3bbc1e7d26a2f07169": {
      "model_module": "@jupyter-widgets/controls",
      "model_module_version": "1.5.0",
      "model_name": "HBoxModel",
      "state": {
       "_dom_classes": [],
       "_model_module": "@jupyter-widgets/controls",
       "_model_module_version": "1.5.0",
       "_model_name": "HBoxModel",
       "_view_count": null,
       "_view_module": "@jupyter-widgets/controls",
       "_view_module_version": "1.5.0",
       "_view_name": "HBoxView",
       "box_style": "",
       "children": [
        "IPY_MODEL_60b2cd738c2046b69beb44e0ac31be35",
        "IPY_MODEL_8962aa0fcead4130b50046fa2bc36c50"
       ],
       "layout": "IPY_MODEL_2150a1ff51f744fbac6ca8e43e430a37"
      }
     },
     "0cedc3dd87564dfbbc76d28783ca1f74": {
      "model_module": "@jupyter-widgets/base",
      "model_module_version": "1.2.0",
      "model_name": "LayoutModel",
      "state": {
       "_model_module": "@jupyter-widgets/base",
       "_model_module_version": "1.2.0",
       "_model_name": "LayoutModel",
       "_view_count": null,
       "_view_module": "@jupyter-widgets/base",
       "_view_module_version": "1.2.0",
       "_view_name": "LayoutView",
       "align_content": null,
       "align_items": null,
       "align_self": null,
       "border": null,
       "bottom": null,
       "display": null,
       "flex": null,
       "flex_flow": null,
       "grid_area": null,
       "grid_auto_columns": null,
       "grid_auto_flow": null,
       "grid_auto_rows": null,
       "grid_column": null,
       "grid_gap": null,
       "grid_row": null,
       "grid_template_areas": null,
       "grid_template_columns": null,
       "grid_template_rows": null,
       "height": null,
       "justify_content": null,
       "justify_items": null,
       "left": null,
       "margin": null,
       "max_height": null,
       "max_width": null,
       "min_height": null,
       "min_width": null,
       "object_fit": null,
       "object_position": null,
       "order": null,
       "overflow": null,
       "overflow_x": null,
       "overflow_y": null,
       "padding": null,
       "right": null,
       "top": null,
       "visibility": null,
       "width": null
      }
     },
     "2150a1ff51f744fbac6ca8e43e430a37": {
      "model_module": "@jupyter-widgets/base",
      "model_module_version": "1.2.0",
      "model_name": "LayoutModel",
      "state": {
       "_model_module": "@jupyter-widgets/base",
       "_model_module_version": "1.2.0",
       "_model_name": "LayoutModel",
       "_view_count": null,
       "_view_module": "@jupyter-widgets/base",
       "_view_module_version": "1.2.0",
       "_view_name": "LayoutView",
       "align_content": null,
       "align_items": null,
       "align_self": null,
       "border": null,
       "bottom": null,
       "display": null,
       "flex": null,
       "flex_flow": null,
       "grid_area": null,
       "grid_auto_columns": null,
       "grid_auto_flow": null,
       "grid_auto_rows": null,
       "grid_column": null,
       "grid_gap": null,
       "grid_row": null,
       "grid_template_areas": null,
       "grid_template_columns": null,
       "grid_template_rows": null,
       "height": null,
       "justify_content": null,
       "justify_items": null,
       "left": null,
       "margin": null,
       "max_height": null,
       "max_width": null,
       "min_height": null,
       "min_width": null,
       "object_fit": null,
       "object_position": null,
       "order": null,
       "overflow": null,
       "overflow_x": null,
       "overflow_y": null,
       "padding": null,
       "right": null,
       "top": null,
       "visibility": null,
       "width": null
      }
     },
     "2dac6d648fe04b28afb58a535c3f838f": {
      "model_module": "@jupyter-widgets/controls",
      "model_module_version": "1.5.0",
      "model_name": "ProgressStyleModel",
      "state": {
       "_model_module": "@jupyter-widgets/controls",
       "_model_module_version": "1.5.0",
       "_model_name": "ProgressStyleModel",
       "_view_count": null,
       "_view_module": "@jupyter-widgets/base",
       "_view_module_version": "1.2.0",
       "_view_name": "StyleView",
       "bar_color": null,
       "description_width": "initial"
      }
     },
     "60b2cd738c2046b69beb44e0ac31be35": {
      "model_module": "@jupyter-widgets/controls",
      "model_module_version": "1.5.0",
      "model_name": "FloatProgressModel",
      "state": {
       "_dom_classes": [],
       "_model_module": "@jupyter-widgets/controls",
       "_model_module_version": "1.5.0",
       "_model_name": "FloatProgressModel",
       "_view_count": null,
       "_view_module": "@jupyter-widgets/controls",
       "_view_module_version": "1.5.0",
       "_view_name": "ProgressView",
       "bar_style": "success",
       "description": "100%",
       "description_tooltip": null,
       "layout": "IPY_MODEL_bfda808d0771406d8dac7bac17b3cdfa",
       "max": 31519111.0,
       "min": 0.0,
       "orientation": "horizontal",
       "style": "IPY_MODEL_2dac6d648fe04b28afb58a535c3f838f",
       "value": 31519111.0
      }
     },
     "8802cca4cbd64d05acbfa1b3a802437f": {
      "model_module": "@jupyter-widgets/controls",
      "model_module_version": "1.5.0",
      "model_name": "DescriptionStyleModel",
      "state": {
       "_model_module": "@jupyter-widgets/controls",
       "_model_module_version": "1.5.0",
       "_model_name": "DescriptionStyleModel",
       "_view_count": null,
       "_view_module": "@jupyter-widgets/base",
       "_view_module_version": "1.2.0",
       "_view_name": "StyleView",
       "description_width": ""
      }
     },
     "8962aa0fcead4130b50046fa2bc36c50": {
      "model_module": "@jupyter-widgets/controls",
      "model_module_version": "1.5.0",
      "model_name": "HTMLModel",
      "state": {
       "_dom_classes": [],
       "_model_module": "@jupyter-widgets/controls",
       "_model_module_version": "1.5.0",
       "_model_name": "HTMLModel",
       "_view_count": null,
       "_view_module": "@jupyter-widgets/controls",
       "_view_module_version": "1.5.0",
       "_view_name": "HTMLView",
       "description": "",
       "description_tooltip": null,
       "layout": "IPY_MODEL_0cedc3dd87564dfbbc76d28783ca1f74",
       "placeholder": "​",
       "style": "IPY_MODEL_8802cca4cbd64d05acbfa1b3a802437f",
       "value": " 30.1M/30.1M [00:00&lt;00:00, 58.2MB/s]"
      }
     },
     "bfda808d0771406d8dac7bac17b3cdfa": {
      "model_module": "@jupyter-widgets/base",
      "model_module_version": "1.2.0",
      "model_name": "LayoutModel",
      "state": {
       "_model_module": "@jupyter-widgets/base",
       "_model_module_version": "1.2.0",
       "_model_name": "LayoutModel",
       "_view_count": null,
       "_view_module": "@jupyter-widgets/base",
       "_view_module_version": "1.2.0",
       "_view_name": "LayoutView",
       "align_content": null,
       "align_items": null,
       "align_self": null,
       "border": null,
       "bottom": null,
       "display": null,
       "flex": null,
       "flex_flow": null,
       "grid_area": null,
       "grid_auto_columns": null,
       "grid_auto_flow": null,
       "grid_auto_rows": null,
       "grid_column": null,
       "grid_gap": null,
       "grid_row": null,
       "grid_template_areas": null,
       "grid_template_columns": null,
       "grid_template_rows": null,
       "height": null,
       "justify_content": null,
       "justify_items": null,
       "left": null,
       "margin": null,
       "max_height": null,
       "max_width": null,
       "min_height": null,
       "min_width": null,
       "object_fit": null,
       "object_position": null,
       "order": null,
       "overflow": null,
       "overflow_x": null,
       "overflow_y": null,
       "padding": null,
       "right": null,
       "top": null,
       "visibility": null,
       "width": null
      }
     }
    },
    "version_major": 2,
    "version_minor": 0
   }
  }
 },
 "nbformat": 4,
 "nbformat_minor": 4
}
