{
 "cells": [
  {
   "cell_type": "code",
   "execution_count": 1,
   "metadata": {
    "execution": {
     "iopub.execute_input": "2020-09-30T02:42:45.003078Z",
     "iopub.status.busy": "2020-09-30T02:42:45.002243Z",
     "iopub.status.idle": "2020-09-30T02:42:45.005430Z",
     "shell.execute_reply": "2020-09-30T02:42:45.004827Z"
    },
    "papermill": {
     "duration": 0.017761,
     "end_time": "2020-09-30T02:42:45.005547",
     "exception": false,
     "start_time": "2020-09-30T02:42:44.987786",
     "status": "completed"
    },
    "tags": []
   },
   "outputs": [],
   "source": [
    "from pathlib import Path"
   ]
  },
  {
   "cell_type": "code",
   "execution_count": 2,
   "metadata": {
    "execution": {
     "iopub.execute_input": "2020-09-30T02:42:45.035302Z",
     "iopub.status.busy": "2020-09-30T02:42:45.034583Z",
     "iopub.status.idle": "2020-09-30T02:42:59.385255Z",
     "shell.execute_reply": "2020-09-30T02:42:59.384592Z"
    },
    "papermill": {
     "duration": 14.3696,
     "end_time": "2020-09-30T02:42:59.385374",
     "exception": false,
     "start_time": "2020-09-30T02:42:45.015774",
     "status": "completed"
    },
    "tags": []
   },
   "outputs": [
    {
     "name": "stdout",
     "output_type": "stream",
     "text": [
      "Collecting efficientnet_pytorch\r\n",
      "  Downloading efficientnet_pytorch-0.7.0.tar.gz (20 kB)\r\n",
      "Requirement already satisfied: torch in /opt/conda/lib/python3.7/site-packages (from efficientnet_pytorch) (1.6.0)\r\n",
      "Requirement already satisfied: future in /opt/conda/lib/python3.7/site-packages (from torch->efficientnet_pytorch) (0.18.2)\r\n",
      "Requirement already satisfied: numpy in /opt/conda/lib/python3.7/site-packages (from torch->efficientnet_pytorch) (1.18.5)\r\n",
      "Building wheels for collected packages: efficientnet-pytorch\r\n",
      "  Building wheel for efficientnet-pytorch (setup.py) ... \u001b[?25l-\b \b\\\b \bdone\r\n",
      "\u001b[?25h  Created wheel for efficientnet-pytorch: filename=efficientnet_pytorch-0.7.0-py3-none-any.whl size=16035 sha256=2e3b17d961437ed5c233b2b8df1b1778ee2fc6aec814cf2e83d8cd6917d45c7a\r\n",
      "  Stored in directory: /root/.cache/pip/wheels/b7/cc/0d/41d384b0071c6f46e542aded5f8571700ace4f1eb3f1591c29\r\n",
      "Successfully built efficientnet-pytorch\r\n",
      "Installing collected packages: efficientnet-pytorch\r\n",
      "Successfully installed efficientnet-pytorch-0.7.0\r\n"
     ]
    }
   ],
   "source": [
    "import numpy as np\n",
    "import pandas as pd\n",
    "import torch\n",
    "import torchvision\n",
    "from PIL import Image\n",
    "import matplotlib.pyplot as plt\n",
    "from sklearn.neighbors import NearestNeighbors\n",
    "from matplotlib.pyplot import imshow\n",
    "\n",
    "%matplotlib inline\n",
    "\n",
    "!pip install efficientnet_pytorch\n",
    "\n",
    "import joblib\n",
    "from efficientnet_pytorch import EfficientNet"
   ]
  },
  {
   "cell_type": "code",
   "execution_count": 3,
   "metadata": {
    "execution": {
     "iopub.execute_input": "2020-09-30T02:42:59.417308Z",
     "iopub.status.busy": "2020-09-30T02:42:59.416601Z",
     "iopub.status.idle": "2020-09-30T02:42:59.421270Z",
     "shell.execute_reply": "2020-09-30T02:42:59.420722Z"
    },
    "papermill": {
     "duration": 0.021992,
     "end_time": "2020-09-30T02:42:59.421371",
     "exception": false,
     "start_time": "2020-09-30T02:42:59.399379",
     "status": "completed"
    },
    "tags": []
   },
   "outputs": [],
   "source": [
    "from torchvision import transforms"
   ]
  },
  {
   "cell_type": "code",
   "execution_count": 4,
   "metadata": {
    "execution": {
     "iopub.execute_input": "2020-09-30T02:42:59.453377Z",
     "iopub.status.busy": "2020-09-30T02:42:59.452430Z",
     "iopub.status.idle": "2020-09-30T02:42:59.455101Z",
     "shell.execute_reply": "2020-09-30T02:42:59.454458Z"
    },
    "papermill": {
     "duration": 0.020587,
     "end_time": "2020-09-30T02:42:59.455198",
     "exception": false,
     "start_time": "2020-09-30T02:42:59.434611",
     "status": "completed"
    },
    "tags": []
   },
   "outputs": [],
   "source": [
    "ball_tree_dump_file = '/kaggle/input/2nd-step/library_ball_tree.sav'\n",
    "lib_files_dump_file = '/kaggle/input/2nd-step/library_files_list.sav'\n",
    "CNN_MODEL_WEIGHTS = Path('/kaggle/input/digix-ai-1st-attempt/eff_net_w_2.pt')\n",
    "QUERY_DIR = Path('/kaggle/input/digixquery/query')\n",
    "RESCALE_SIZE=224"
   ]
  },
  {
   "cell_type": "code",
   "execution_count": 5,
   "metadata": {
    "execution": {
     "iopub.execute_input": "2020-09-30T02:42:59.486146Z",
     "iopub.status.busy": "2020-09-30T02:42:59.485388Z",
     "iopub.status.idle": "2020-09-30T02:42:59.489414Z",
     "shell.execute_reply": "2020-09-30T02:42:59.488912Z"
    },
    "papermill": {
     "duration": 0.021306,
     "end_time": "2020-09-30T02:42:59.489509",
     "exception": false,
     "start_time": "2020-09-30T02:42:59.468203",
     "status": "completed"
    },
    "tags": []
   },
   "outputs": [],
   "source": [
    "import torch.nn as nn"
   ]
  },
  {
   "cell_type": "code",
   "execution_count": 6,
   "metadata": {
    "execution": {
     "iopub.execute_input": "2020-09-30T02:42:59.870625Z",
     "iopub.status.busy": "2020-09-30T02:42:59.868148Z",
     "iopub.status.idle": "2020-09-30T02:42:59.873992Z",
     "shell.execute_reply": "2020-09-30T02:42:59.873359Z"
    },
    "papermill": {
     "duration": 0.371474,
     "end_time": "2020-09-30T02:42:59.874162",
     "exception": false,
     "start_time": "2020-09-30T02:42:59.502688",
     "status": "completed"
    },
    "tags": []
   },
   "outputs": [],
   "source": [
    "eval_on_gpu = torch.cuda.is_available()\n",
    "\n",
    "if eval_on_gpu:\n",
    "    DEVICE = torch.device('cuda')\n",
    "else:\n",
    "    DEVICE = torch.device('cpu')"
   ]
  },
  {
   "cell_type": "code",
   "execution_count": 7,
   "metadata": {
    "execution": {
     "iopub.execute_input": "2020-09-30T02:42:59.906963Z",
     "iopub.status.busy": "2020-09-30T02:42:59.906181Z",
     "iopub.status.idle": "2020-09-30T02:42:59.909637Z",
     "shell.execute_reply": "2020-09-30T02:42:59.909112Z"
    },
    "papermill": {
     "duration": 0.022072,
     "end_time": "2020-09-30T02:42:59.909752",
     "exception": false,
     "start_time": "2020-09-30T02:42:59.887680",
     "status": "completed"
    },
    "tags": []
   },
   "outputs": [],
   "source": [
    "def prepare_model(model):\n",
    "    fc_without_last_layer = list(model._fc.children())[:-2]\n",
    "    model._fc = torch.nn.Sequential(*fc_without_last_layer)"
   ]
  },
  {
   "cell_type": "code",
   "execution_count": 8,
   "metadata": {
    "execution": {
     "iopub.execute_input": "2020-09-30T02:42:59.948889Z",
     "iopub.status.busy": "2020-09-30T02:42:59.948237Z",
     "iopub.status.idle": "2020-09-30T02:43:13.559654Z",
     "shell.execute_reply": "2020-09-30T02:43:13.559093Z"
    },
    "papermill": {
     "duration": 13.635025,
     "end_time": "2020-09-30T02:43:13.559804",
     "exception": false,
     "start_time": "2020-09-30T02:42:59.924779",
     "status": "completed"
    },
    "tags": []
   },
   "outputs": [],
   "source": [
    "knn_model = joblib.load(ball_tree_dump_file)\n",
    "\n",
    "cnn_model = EfficientNet.from_name('efficientnet-b1')\n",
    "additional_ftrs = 4096\n",
    "n_classes = 3094\n",
    "#Изменяем выходные слои модели\n",
    "num_ftrs_resnext = cnn_model._fc.in_features\n",
    "new_fc_seq = nn.Sequential(\n",
    "    nn.Linear(num_ftrs_resnext,additional_ftrs),\n",
    "    nn.LeakyReLU(),\n",
    "    nn.Linear(additional_ftrs, n_classes)\n",
    ")\n",
    "cnn_model._fc = new_fc_seq\n",
    "\n",
    "cnn_model.to(DEVICE)\n",
    "cnn_model.load_state_dict(torch.load(CNN_MODEL_WEIGHTS))\n",
    "cnn_model.eval()\n",
    "prepare_model(cnn_model)\n",
    "\n",
    "lib_files = joblib.load(lib_files_dump_file)"
   ]
  },
  {
   "cell_type": "code",
   "execution_count": 9,
   "metadata": {
    "execution": {
     "iopub.execute_input": "2020-09-30T02:43:13.603358Z",
     "iopub.status.busy": "2020-09-30T02:43:13.601575Z",
     "iopub.status.idle": "2020-09-30T02:43:13.604219Z",
     "shell.execute_reply": "2020-09-30T02:43:13.604742Z"
    },
    "papermill": {
     "duration": 0.031247,
     "end_time": "2020-09-30T02:43:13.604857",
     "exception": false,
     "start_time": "2020-09-30T02:43:13.573610",
     "status": "completed"
    },
    "tags": []
   },
   "outputs": [],
   "source": [
    "def query_processing(knn_model, cnn_model, query_path, lib_files, n_results=10):\n",
    "    image = Image.open(query_path)\n",
    "    image.load()\n",
    "    \n",
    "    if (len(image.mode) < 2):\n",
    "        image = transforms.Grayscale(3)(image)\n",
    "    transforms.functional.adjust_saturation(img=image,saturation_factor=1.25)\n",
    "    transforms.functional.adjust_gamma(img=image, gamma=0.25)\n",
    "    \n",
    "    image_transform = transforms.Compose([\n",
    "            transforms.Resize(RESCALE_SIZE),\n",
    "            transforms.CenterCrop(RESCALE_SIZE),\n",
    "            transforms.ToTensor(),\n",
    "            transforms.Normalize([0.485, 0.456, 0.406], [0.229, 0.224, 0.225])\n",
    "        ])\n",
    "    image = image_transform(image)\n",
    "    image = image.unsqueeze(0)\n",
    "    image = image.to(DEVICE)\n",
    "    \n",
    "    with torch.no_grad():\n",
    "        feature_vector = cnn_model(image).cpu()\n",
    "    neigh_dist, nearest_nbrs = knn_model.kneighbors(feature_vector)\n",
    "    \n",
    "    result = list()\n",
    "    nearest_nbrs = np.squeeze(np.array(nearest_nbrs))\n",
    "    neigh_dist = np.squeeze(np.array(neigh_dist))\n",
    "    for i in range(10):\n",
    "        result.append((lib_files[nearest_nbrs[i]].name, neigh_dist[i]))\n",
    "    \n",
    "    result = sorted(result, key=lambda pair: pair[1], reverse=True)\n",
    "    result = list(map(lambda pair: pair[0], result))\n",
    "    return result"
   ]
  },
  {
   "cell_type": "code",
   "execution_count": 10,
   "metadata": {
    "execution": {
     "iopub.execute_input": "2020-09-30T02:43:13.637727Z",
     "iopub.status.busy": "2020-09-30T02:43:13.636975Z",
     "iopub.status.idle": "2020-09-30T02:59:10.794009Z",
     "shell.execute_reply": "2020-09-30T02:59:10.794610Z"
    },
    "papermill": {
     "duration": 957.176399,
     "end_time": "2020-09-30T02:59:10.794783",
     "exception": false,
     "start_time": "2020-09-30T02:43:13.618384",
     "status": "completed"
    },
    "tags": []
   },
   "outputs": [
    {
     "ename": "IndexError",
     "evalue": "list index out of range",
     "output_type": "error",
     "traceback": [
      "\u001b[0;31m---------------------------------------------------------------------------\u001b[0m",
      "\u001b[0;31mIndexError\u001b[0m                                Traceback (most recent call last)",
      "\u001b[0;32m<ipython-input-10-60f8bbd58b85>\u001b[0m in \u001b[0;36m<module>\u001b[0;34m\u001b[0m\n\u001b[1;32m      4\u001b[0m \u001b[0;34m\u001b[0m\u001b[0m\n\u001b[1;32m      5\u001b[0m \u001b[0;32mfor\u001b[0m \u001b[0mquery_file\u001b[0m \u001b[0;32min\u001b[0m \u001b[0mquery_files\u001b[0m\u001b[0;34m:\u001b[0m\u001b[0;34m\u001b[0m\u001b[0;34m\u001b[0m\u001b[0m\n\u001b[0;32m----> 6\u001b[0;31m     \u001b[0mresult\u001b[0m \u001b[0;34m=\u001b[0m \u001b[0mquery_processing\u001b[0m\u001b[0;34m(\u001b[0m\u001b[0mknn_model\u001b[0m\u001b[0;34m,\u001b[0m \u001b[0mcnn_model\u001b[0m\u001b[0;34m,\u001b[0m \u001b[0mquery_file\u001b[0m\u001b[0;34m,\u001b[0m \u001b[0mlib_files\u001b[0m\u001b[0;34m)\u001b[0m\u001b[0;34m\u001b[0m\u001b[0;34m\u001b[0m\u001b[0m\n\u001b[0m\u001b[1;32m      7\u001b[0m     \u001b[0mquery_results\u001b[0m\u001b[0;34m.\u001b[0m\u001b[0mappend\u001b[0m\u001b[0;34m(\u001b[0m\u001b[0mresult\u001b[0m\u001b[0;34m)\u001b[0m\u001b[0;34m\u001b[0m\u001b[0;34m\u001b[0m\u001b[0m\n",
      "\u001b[0;32m<ipython-input-9-dd955d0ecfc5>\u001b[0m in \u001b[0;36mquery_processing\u001b[0;34m(knn_model, cnn_model, query_path, lib_files, n_results)\u001b[0m\n\u001b[1;32m     26\u001b[0m     \u001b[0mneigh_dist\u001b[0m \u001b[0;34m=\u001b[0m \u001b[0mnp\u001b[0m\u001b[0;34m.\u001b[0m\u001b[0msqueeze\u001b[0m\u001b[0;34m(\u001b[0m\u001b[0mnp\u001b[0m\u001b[0;34m.\u001b[0m\u001b[0marray\u001b[0m\u001b[0;34m(\u001b[0m\u001b[0mneigh_dist\u001b[0m\u001b[0;34m)\u001b[0m\u001b[0;34m)\u001b[0m\u001b[0;34m\u001b[0m\u001b[0;34m\u001b[0m\u001b[0m\n\u001b[1;32m     27\u001b[0m     \u001b[0;32mfor\u001b[0m \u001b[0mi\u001b[0m \u001b[0;32min\u001b[0m \u001b[0mrange\u001b[0m\u001b[0;34m(\u001b[0m\u001b[0;36m10\u001b[0m\u001b[0;34m)\u001b[0m\u001b[0;34m:\u001b[0m\u001b[0;34m\u001b[0m\u001b[0;34m\u001b[0m\u001b[0m\n\u001b[0;32m---> 28\u001b[0;31m         \u001b[0mresult\u001b[0m\u001b[0;34m.\u001b[0m\u001b[0mappend\u001b[0m\u001b[0;34m(\u001b[0m\u001b[0;34m(\u001b[0m\u001b[0mlib_files\u001b[0m\u001b[0;34m[\u001b[0m\u001b[0mnearest_nbrs\u001b[0m\u001b[0;34m[\u001b[0m\u001b[0mi\u001b[0m\u001b[0;34m]\u001b[0m\u001b[0;34m]\u001b[0m\u001b[0;34m.\u001b[0m\u001b[0mname\u001b[0m\u001b[0;34m,\u001b[0m \u001b[0mneigh_dist\u001b[0m\u001b[0;34m[\u001b[0m\u001b[0mi\u001b[0m\u001b[0;34m]\u001b[0m\u001b[0;34m)\u001b[0m\u001b[0;34m)\u001b[0m\u001b[0;34m\u001b[0m\u001b[0;34m\u001b[0m\u001b[0m\n\u001b[0m\u001b[1;32m     29\u001b[0m \u001b[0;34m\u001b[0m\u001b[0m\n\u001b[1;32m     30\u001b[0m     \u001b[0mresult\u001b[0m \u001b[0;34m=\u001b[0m \u001b[0msorted\u001b[0m\u001b[0;34m(\u001b[0m\u001b[0mresult\u001b[0m\u001b[0;34m,\u001b[0m \u001b[0mkey\u001b[0m\u001b[0;34m=\u001b[0m\u001b[0;32mlambda\u001b[0m \u001b[0mpair\u001b[0m\u001b[0;34m:\u001b[0m \u001b[0mpair\u001b[0m\u001b[0;34m[\u001b[0m\u001b[0;36m1\u001b[0m\u001b[0;34m]\u001b[0m\u001b[0;34m,\u001b[0m \u001b[0mreverse\u001b[0m\u001b[0;34m=\u001b[0m\u001b[0;32mTrue\u001b[0m\u001b[0;34m)\u001b[0m\u001b[0;34m\u001b[0m\u001b[0;34m\u001b[0m\u001b[0m\n",
      "\u001b[0;31mIndexError\u001b[0m: list index out of range"
     ]
    }
   ],
   "source": [
    "query_files = list(QUERY_DIR.rglob('*.jpg'))\n",
    "\n",
    "query_results = list()\n",
    "                     \n",
    "for query_file in query_files:\n",
    "    result = query_processing(knn_model, cnn_model, query_file, lib_files)\n",
    "    query_results.append(result)"
   ]
  },
  {
   "cell_type": "code",
   "execution_count": 11,
   "metadata": {
    "execution": {
     "iopub.execute_input": "2020-09-30T02:59:10.833473Z",
     "iopub.status.busy": "2020-09-30T02:59:10.832371Z",
     "iopub.status.idle": "2020-09-30T02:59:10.850281Z",
     "shell.execute_reply": "2020-09-30T02:59:10.849725Z"
    },
    "papermill": {
     "duration": 0.040724,
     "end_time": "2020-09-30T02:59:10.850416",
     "exception": false,
     "start_time": "2020-09-30T02:59:10.809692",
     "status": "completed"
    },
    "tags": []
   },
   "outputs": [
    {
     "ename": "IndexError",
     "evalue": "list index out of range",
     "output_type": "error",
     "traceback": [
      "\u001b[0;31m---------------------------------------------------------------------------\u001b[0m",
      "\u001b[0;31mIndexError\u001b[0m                                Traceback (most recent call last)",
      "\u001b[0;32m<ipython-input-11-6ddd71c6bf04>\u001b[0m in \u001b[0;36m<module>\u001b[0;34m\u001b[0m\n\u001b[1;32m      4\u001b[0m         \u001b[0mf\u001b[0m\u001b[0;34m.\u001b[0m\u001b[0mwrite\u001b[0m\u001b[0;34m(\u001b[0m\u001b[0;34m\"%s,{\"\u001b[0m\u001b[0;34m%\u001b[0m\u001b[0;34m(\u001b[0m\u001b[0mquery_files\u001b[0m\u001b[0;34m[\u001b[0m\u001b[0mi\u001b[0m\u001b[0;34m]\u001b[0m\u001b[0;34m.\u001b[0m\u001b[0mname\u001b[0m\u001b[0;34m)\u001b[0m\u001b[0;34m)\u001b[0m\u001b[0;34m\u001b[0m\u001b[0;34m\u001b[0m\u001b[0m\n\u001b[1;32m      5\u001b[0m         \u001b[0;32mfor\u001b[0m \u001b[0mj\u001b[0m \u001b[0;32min\u001b[0m \u001b[0mrange\u001b[0m\u001b[0;34m(\u001b[0m\u001b[0;36m9\u001b[0m\u001b[0;34m)\u001b[0m\u001b[0;34m:\u001b[0m\u001b[0;34m\u001b[0m\u001b[0;34m\u001b[0m\u001b[0m\n\u001b[0;32m----> 6\u001b[0;31m             \u001b[0mf\u001b[0m\u001b[0;34m.\u001b[0m\u001b[0mwrite\u001b[0m\u001b[0;34m(\u001b[0m\u001b[0;34m\"%s,\"\u001b[0m\u001b[0;34m%\u001b[0m\u001b[0;34m(\u001b[0m\u001b[0mquery_results\u001b[0m\u001b[0;34m[\u001b[0m\u001b[0mi\u001b[0m\u001b[0;34m]\u001b[0m\u001b[0;34m[\u001b[0m\u001b[0mj\u001b[0m\u001b[0;34m]\u001b[0m\u001b[0;34m)\u001b[0m\u001b[0;34m)\u001b[0m\u001b[0;34m\u001b[0m\u001b[0;34m\u001b[0m\u001b[0m\n\u001b[0m\u001b[1;32m      7\u001b[0m         \u001b[0mf\u001b[0m\u001b[0;34m.\u001b[0m\u001b[0mwrite\u001b[0m\u001b[0;34m(\u001b[0m\u001b[0;34m\"%s}\\n\"\u001b[0m\u001b[0;34m%\u001b[0m\u001b[0;34m(\u001b[0m\u001b[0mquery_results\u001b[0m\u001b[0;34m[\u001b[0m\u001b[0mi\u001b[0m\u001b[0;34m]\u001b[0m\u001b[0;34m[\u001b[0m\u001b[0;36m9\u001b[0m\u001b[0;34m]\u001b[0m\u001b[0;34m)\u001b[0m\u001b[0;34m)\u001b[0m\u001b[0;34m\u001b[0m\u001b[0;34m\u001b[0m\u001b[0m\n",
      "\u001b[0;31mIndexError\u001b[0m: list index out of range"
     ]
    }
   ],
   "source": [
    "import csv\n",
    "with open('submission.csv', 'w', encoding=\"utf8\") as f:\n",
    "    for i in range(len(query_files)):\n",
    "        f.write(\"%s,{\"%(query_files[i].name))\n",
    "        for j in range(9):\n",
    "            f.write(\"%s,\"%(query_results[i][j]))\n",
    "        f.write(\"%s}\\n\"%(query_results[i][9]))"
   ]
  },
  {
   "cell_type": "code",
   "execution_count": 12,
   "metadata": {
    "execution": {
     "iopub.execute_input": "2020-09-30T02:59:10.892727Z",
     "iopub.status.busy": "2020-09-30T02:59:10.890763Z",
     "iopub.status.idle": "2020-09-30T02:59:10.893533Z",
     "shell.execute_reply": "2020-09-30T02:59:10.894116Z"
    },
    "papermill": {
     "duration": 0.028674,
     "end_time": "2020-09-30T02:59:10.894247",
     "exception": false,
     "start_time": "2020-09-30T02:59:10.865573",
     "status": "completed"
    },
    "tags": []
   },
   "outputs": [],
   "source": [
    "import os, sys, codecs\n",
    "\n",
    "BUFSIZE = 4096\n",
    "BOMLEN = len(codecs.BOM_UTF8)\n",
    "\n",
    "path = 'submission.csv'\n",
    "with open(path, \"r+b\") as fp:\n",
    "    chunk = fp.read(BUFSIZE)\n",
    "    if chunk.startswith(codecs.BOM_UTF8):\n",
    "        i = 0\n",
    "        chunk = chunk[BOMLEN:]\n",
    "        while chunk:\n",
    "            fp.seek(i)\n",
    "            fp.write(chunk)\n",
    "            i += len(chunk)\n",
    "            fp.seek(BOMLEN, os.SEEK_CUR)\n",
    "            chunk = fp.read(BUFSIZE)\n",
    "        fp.seek(-BOMLEN, os.SEEK_CUR)\n",
    "        fp.truncate()"
   ]
  }
 ],
 "metadata": {
  "kernelspec": {
   "display_name": "Python 3",
   "language": "python",
   "name": "python3"
  },
  "language_info": {
   "codemirror_mode": {
    "name": "ipython",
    "version": 3
   },
   "file_extension": ".py",
   "mimetype": "text/x-python",
   "name": "python",
   "nbconvert_exporter": "python",
   "pygments_lexer": "ipython3",
   "version": "3.7.6"
  },
  "papermill": {
   "duration": 990.81734,
   "end_time": "2020-09-30T02:59:11.320456",
   "environment_variables": {},
   "exception": null,
   "input_path": "__notebook__.ipynb",
   "output_path": "__notebook__.ipynb",
   "parameters": {},
   "start_time": "2020-09-30T02:42:40.503116",
   "version": "2.1.0"
  }
 },
 "nbformat": 4,
 "nbformat_minor": 4
}
